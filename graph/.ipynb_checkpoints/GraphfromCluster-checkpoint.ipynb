{
 "cells": [
  {
   "cell_type": "code",
   "execution_count": 1,
   "metadata": {
    "collapsed": true
   },
   "outputs": [],
   "source": [
    "import numpy\n",
    "import pandas as pd\n",
    "import nltk\n",
    "import re\n",
    "import io"
   ]
  },
  {
   "cell_type": "code",
   "execution_count": 46,
   "metadata": {},
   "outputs": [
    {
     "name": "stdout",
     "output_type": "stream",
     "text": [
      "122 titles\n",
      "122 docs\n",
      "Linear equation\n",
      "b'If n =  the set of the solutions is a plane in a three-dimensional space. More generally, the set of the solutions is an (n\\\\\\\\\\\\\\)-dimensional hyperplane in a n-dimensional Euclidean space (or affine space if the coefficients are complex numbers or belong to any field).'b'In other words, if ai \\\\\\ , one may choose arbitrary values for all the unknowns except xi, and express xi in term of these values.'b'If at least one coefficient is nonzero, a permutation of the subscripts allows one to suppose  \\\\\\ , and rewrite the equation'b'If all the coefficients are zero, then either b \\\\\\  and the equation does not have any solution, or b =  and every set of values for the unknowns is a solution.'b'where, , , ..., an represent numbers, called the coefficients, , , ..., xn are the unknowns, and b is called the constant term. When dealing with three or fewer variables, it is common to use x, y and z instead of ,  and .'b'A linear equation can involve more than two variables. Every linear equation in n unknowns may be rewritten'b'An everyday example of the use of different forms of linear equations is computation of tax with tax brackets. This is commonly done with a progressive tax computation, using either point\\\\\\ form or slope\\\\\\ form.'b'where a is any scalar. A function which satisfies these properties is called a linear function (or linear operator, or more generally a linear map). However, linear equations that have non-zero y-intercepts, when written in this manner, produce functions which will have neither property above and hence are not linear functions in this sense. They are known as affine functions.'b'and'b'A linear equation, written in the form y = f(x) whose graph crosses the origin (x,y) = (,), that is, whose y-intercept is , has the following properties:'b'This is a special case of the standard form where A =  and B = . The graph is a vertical line with x-intercept equal to a. The slope is undefined. There is no y-intercept, unless a = , in which case the graph of the line is the y-axis, and so every real number is a y-intercept. This is the only type of straight line which is not the graph of a function (it obviously fails the vertical line test).'b'This is a special case of the standard form where A =  and B = , or of the slope-intercept form where the slope m = . The graph is a horizontal line with y-intercept equal to b. There is no x-intercept, unless b = , in which case the graph of the line is the x-axis, and so every real number is an x-intercept.'b'Ergo,'b'Thus,'b'One way to understand this formula is to use the fact that the determinant of two vectors on the plane will give the area of the parallelogram they form. Therefore, if the determinant equals zero then the parallelogram has no area, and that will happen when two vectors are on the same line.'b'In this case t varies from  at point (h,k) to  at point (p,q), with values of t between  and  providing interpolation and other values of t providing extrapolation.'b'and'b'These are two simultaneous equations in terms of a variable parameter t, with slope m = V / T, x-intercept (VU - WT) / V and y-intercept (WT - VU) / T. This can also be related to the two-point form, where T = p - h, U = h, V = q - k, and W = k:'b'and'b'Since this extends easily to higher dimensions, it is a common representation in linear algebra, and in computer programming. There are named methods for solving system of linear equations, like Gauss-Jordan which can be expressed as matrix elementary row operations.'b'becomes:'b'Further, this representation extends to systems of linear equations.'b'one can rewrite the equation in matrix form:'b'Using the order of the standard form'b'where a and b must be nonzero. The graph of the equation has x-intercept a and y-intercept b. The intercept form is in standard form with A/C = /a and B/C = /b. Lines that pass through the origin or which are horizontal or vertical violate the nonzero condition on a or b and cannot be represented in this form.'b'Using a determinant, one gets a determinant form, easy to remember:'b'Expanding the products and regrouping the terms leads to the general form:'b'Multiplying both sides of this equation by (\\\\\\\\\\\\\\) yields a form of the line generally referred to as the symmetric form:'b'where (,\\\\) and (,\\\\) are two points on the line with  \\\\\\ . This is equivalent to the point-slope form above, where the slope is explicitly given as (\\\\\\\\\\\\\\)/(\\\\\\\\\\\\\\).'b'The point-slope form expresses the fact that the difference in the y coordinate between two points on a line (that is, y\\\\\\\\\\\\\\) is proportional to the difference in the x coordinate (that is, x\\\\\\\\\\\\\\). The proportionality constant is m (the slope of the line).'b'where m is the slope of the line and (,) is any point on the line.'b'where m is the slope of the line and b is the y intercept, which is the y coordinate of the location where the line crosses the y axis. This can be seen by letting x = , which immediately gives y = b. It may be helpful to think about this in terms of y = b + mx; where the line passes through the point (, b) and extends to the left and right at a slope of m. Vertical lines, having undefined slope, cannot be represented by this form.'b'where a and b are not both equal to zero. The two versions can be converted from one to the other by moving the constant term to the other side of the equal sign.'b'where A and B are not both equal to zero. The equation is usually written so that A \\\\\\ , by convention. The graph of the equation is a straight line, and every straight line can be represented by an equation in the above form. If A is nonzero, then the x-intercept, that is, the x-coordinate of the point where the graph crosses the x-axis (where, y is zero), is C/A. If B is nonzero, then the y-intercept, that is the y-coordinate of the point where the graph crosses the y-axis (where x is zero), is C/B, and the slope of the line is \\\\\\/B. The general form is sometimes written as:'b'In the general (or standard) form the linear equation is written as:'b'Linear equations can be rewritten using the laws of elementary algebra into several different forms. These equations are often referred to as the \"equations of the straight line.\" In what follows, x, y, t, and \\xce\\ are variables; other letters represent constants (fixed numbers).'b'Since terms of linear equations cannot contain products of distinct or equal variables, nor any power (other than ) or other function of a variable, equations involving terms such as xy, , /, and sin(x) are nonlinear.'b'where m and b designate constants (parameters). The origin of the name \"linear\" comes from the fact that the set of solutions of such an equation forms a straight line in the plane. In this particular equation, the constant m determines the slope or gradient of that line, and the constant term b determines the point at which the line crosses the y-axis, known as the y-intercept.'b'A common form of a linear equation in the two variables x and y is'b'If a = , then, when b =  every number is a solution of the equation, but if b \\\\\\  there are no solutions (and the equation is said to be inconsistent.)'b'If a \\\\\\ , there is a unique solution'b'A linear equation in one unknown x may always be rewritten'b''b''b'This article considers the case of a single equation for which one searches the real solutions. All its content applies for complex solutions and, more generally for linear equations with coefficients and solutions in any field.'b'Equations with exponents greater than one are non-linear. An example of a non-linear equation of two variables is axy + b = , where a and b are constants and a \\\\\\ . It has two variables, x and y, and is non-linear because the sum of the exponents of the variables in the first term, axy, is two.'b'Linear equations can have one or more variables. An example of a linear equation with three variables, x, y, and z, is given by: ax + by + cz + d = , where a, b, c, and d are constants and a, b, and c are non-zero. Linear equations occur frequently in most subareas of mathematics and especially in applied mathematics. While they arise quite naturally when modeling many phenomena, they are particularly useful since many non-linear equations may be reduced to linear equations by assuming that quantities of interest vary to only a small extent from some \"background\" state. An algebraic equation is linear if the sum of the exponents of the variables of each term is one.'b'A linear equation is an algebraic equation in which each term is either a constant or the product of a constant and (the first power of) a single variable (however, different variables may occur in different terms). A simple example of a linear equation with only one variable, x, may be written in the form: ax + b = , where a and b are constants and a \\\\\\ . The constants may be numbers, parameters, or even non-linear functions of parameters, and the distinction between variables and parameters may depend on the problem (for an example, see linear regression).'\n"
     ]
    }
   ],
   "source": [
    "#titles = io.open(\"titles.txt\", mode=\"r\", encoding=\"utf-8\", errors=\"ignore\").read().split('\\n')\n",
    "docs = io.open(\"../data/linalg_text2.txt\", mode=\"r\", encoding=\"utf-8\", errors=\"ignore\").read()\n",
    "docs = re.sub(r\"\\[\\d+\\]\", \"\", docs)\n",
    "docs = re.sub(r'\\w*\\d\\w*', '', docs).split('\\n')\n",
    "titles = [docs[i] for i in range(len(docs)) if i % 2 == 0]\n",
    "docs = [docs[i] for i in range(len(docs)) if i % 2 == 1]\n",
    "\n",
    "\n",
    "print(str(len(titles)) + ' titles')\n",
    "print(str(len(docs)) + ' docs')\n",
    "print(titles[-1])\n",
    "print(docs[-1])\n",
    "\n",
    "ranks = []\n",
    "\n",
    "for i in range(0,len(titles)):\n",
    "    ranks.append(i)\n",
    "stopwords = nltk.corpus.stopwords.words('english')\n",
    "from nltk.stem.snowball import SnowballStemmer\n",
    "stemmer = SnowballStemmer(\"english\")"
   ]
  },
  {
   "cell_type": "code",
   "execution_count": 47,
   "metadata": {
    "collapsed": true
   },
   "outputs": [],
   "source": [
    "def tokenize_and_stem(text):\n",
    "    # first tokenize by sentence, then by word to ensure that punctuation is caught as it's own token\n",
    "    tokens = [word for sent in nltk.sent_tokenize(text) for word in nltk.word_tokenize(sent)]\n",
    "    filtered_tokens = []\n",
    "    # filter out any tokens not containing letters (e.g., numeric tokens, raw punctuation)\n",
    "    for token in tokens:\n",
    "        if re.search('[a-zA-Z]', token):\n",
    "            filtered_tokens.append(token)\n",
    "    stems = [stemmer.stem(t) for t in filtered_tokens]\n",
    "    return stems\n",
    "\n",
    "\n",
    "def tokenize_only(text):\n",
    "    # first tokenize by sentence, then by word to ensure that punctuation is caught as it's own token\n",
    "    tokens = [word.lower() for sent in nltk.sent_tokenize(text) for word in nltk.word_tokenize(sent)]\n",
    "    filtered_tokens = []\n",
    "    # filter out any tokens not containing letters (e.g., numeric tokens, raw punctuation)\n",
    "    for token in tokens:\n",
    "        if re.search('[a-zA-Z]', token):\n",
    "            filtered_tokens.append(token)\n",
    "    return filtered_tokens\n",
    "\n",
    "totalvocab_stemmed = []\n",
    "totalvocab_tokenized = []\n",
    "for i in docs:\n",
    "    allwords_stemmed = tokenize_and_stem(i)\n",
    "    totalvocab_stemmed.extend(allwords_stemmed)\n",
    "    \n",
    "    allwords_tokenized = tokenize_only(i)\n",
    "    totalvocab_tokenized.extend(allwords_tokenized)"
   ]
  },
  {
   "cell_type": "code",
   "execution_count": 48,
   "metadata": {
    "collapsed": true
   },
   "outputs": [],
   "source": [
    "vocab_frame = pd.DataFrame({'words': totalvocab_tokenized}, index = totalvocab_stemmed)"
   ]
  },
  {
   "cell_type": "code",
   "execution_count": 49,
   "metadata": {},
   "outputs": [
    {
     "name": "stdout",
     "output_type": "stream",
     "text": [
      "Wall time: 9.18 s\n",
      "(122, 1231)\n"
     ]
    }
   ],
   "source": [
    "from sklearn.feature_extraction.text import TfidfVectorizer\n",
    "\n",
    "tfidf_vectorizer = TfidfVectorizer(max_df=0.8, max_features=200000,\n",
    "                                 min_df=0.1, stop_words= stopwords,\n",
    "                                 use_idf=True, tokenizer=tokenize_and_stem, ngram_range=(1,3))\n",
    "\n",
    "%time tfidf_matrix = tfidf_vectorizer.fit_transform(docs)\n",
    "\n",
    "print(tfidf_matrix.shape)"
   ]
  },
  {
   "cell_type": "code",
   "execution_count": 50,
   "metadata": {},
   "outputs": [
    {
     "name": "stdout",
     "output_type": "stream",
     "text": [
      "[\"'b\", \"'b b\", \"'b b b'in\", \"'s\", \"'s formula\", \"'s rule\", \"'s theorem\", '-dimension', '\\\\xce\\\\', '\\\\xce\\\\ \\\\xce\\\\', '\\\\xce\\\\xbb', '\\\\xcf\\\\', 'a.', 'a\\\\\\\\\\\\', 'ab', 'abelian', 'abl', 'abov', 'absolut', 'absolut valu', 'abstract', 'abstract algebra', 'accept', 'accord', 'account', 'accur', 'achiev', 'act', 'action', 'actual', 'ad', 'add', 'addit', 'addit multipl', 'addit scalar', 'addit scalar multipl', 'admit', 'advanc', 'advantag', 'affin', 'age', 'agre', 'ai', 'algebra', 'algebra close', 'algebra geometri', 'algebra structur', 'algorithm', 'allow', 'allow one', 'almost', 'along', 'alreadi', 'also call', 'also known', 'also use', 'altern', 'although', 'alway', 'among', 'amount', 'analog', 'analysi', 'analyt', 'analyt geometri', 'ancient', 'angl', 'ani', 'ani field', 'ani given', 'ani two', 'ani vector', 'anoth', 'answer', 'appear', 'appli', 'applic', 'approach', 'appropri', 'approxim', 'arbitrari', 'area', 'argument', 'aris', 'arithmet', 'around', 'arriv', 'art', 'articl', 'aspect', 'assert', 'assign', 'associ', 'associ algebra', 'assum', 'assumpt', 'atom', 'attempt', 'author', 'avail', 'avoid', 'ax', 'axi', 'axiom', 'axiomat', 'b b', \"b b'in\", \"b b'the\", 'b c', \"b'a\", \"b'a linear\", \"b'an\", \"b'and\", \"b'ani\", \"b'anoth\", \"b'are\", \"b'as\", \"b'becaus\", \"b'bi\", \"b'everi\", \"b'for\", \"b'for exampl\", \"b'given\", \"b'here\", \"b'howev\", \"b'if\", \"b'in case\", \"b'in general\", \"b'in linear\", \"b'in linear algebra\", \"b'in mathemat\", \"b'in particular\", \"b'is\", \"b'it\", \"b'let\", \"b'mani\", \"b'more\", \"b'more general\", \"b'on\", \"b'one\", \"b'similar\", \"b'sinc\", \"b'some\", \"b'suppos\", \"b'the first\", \"b'the follow\", \"b'the set\", \"b'the term\", \"b'there\", \"b'these\", \"b'this\", \"b'thus\", \"b'to\", \"b'use\", \"b'when\", \"b'where\", \"b'which\", \"b'with\", 'b.', 'back', 'banach', 'base', 'basi', 'basi v', 'basi vector', 'basic', 'bc', 'becam', 'becaus', 'becom', 'befor', 'began', 'begin', 'behav', 'behavior', 'belong', 'best', 'better', 'biject', 'bilinear', 'bilinear form', 'binari', 'binari oper', 'block', 'bodi', 'book', 'born', 'bottom', 'bound', 'bracket', 'branch', 'branch mathemat', 'bring', 'build', 'built', \"by'b'th\", 'c', 'c.', 'calcul', 'calculus', 'call scalar', 'came', 'canon', 'captur', 'cardin', 'carri', 'cartesian', 'case', 'categori', 'categori theori', 'cauchi', 'caus', 'cayley', 'central', 'centuri', 'certain', 'chain', 'chang', 'character', 'characterist', 'characterist polynomi', 'check', 'chines', 'choic', 'choos', 'chosen', 'circl', 'citat', 'citat need', 'class', 'classic', 'classif', 'classifi', 'clear', 'close', 'close relat', 'coeffici', 'coin', 'coincid', 'collect', 'column', 'column vector', 'combin', 'come', 'common', 'common use', 'commut', 'commut ring', 'compact', 'compar', 'compat', 'complement', 'complet', 'complex', 'complex conjug', 'complex number', 'complic', 'compon', 'composit', 'comput', 'comput use', 'concept', 'concern', 'concret', 'condit', 'confus', 'conjug', 'conjug transpos', 'connect', 'consequ', 'consid', 'consider', 'consist', 'constant', 'constraint', 'construct', 'contain', 'content', 'context', 'continu', 'continu function', 'contrast', 'contribut', 'conveni', 'convent', 'converg', 'convers', 'convert', 'coordin', 'coordin system', 'copi', 'correct', 'correspond', 'cost', 'could', 'count', 'cours', 'covari', 'cramer', 'creat', 'crucial', 'cube', 'current', 'curv', 'data', 'day', 'de', 'deal', 'decomposit', 'deduc', 'defin', 'defin set', 'definit', 'degre', 'demonstr', 'denot', 'dens', 'depend', 'deriv', 'describ', 'descript', 'design', 'desir', 'det', 'detail', 'determin', 'determin matrix', 'develop', 'diagon', 'diagon entri', 'diagram', 'differ', 'differenti', 'differenti equat', 'differenti function', 'differenti geometri', 'difficult', 'dimens', 'dimens n', 'dimension', 'direct', 'disciplin', 'discov', 'discoveri', 'discret', 'discuss', 'distanc', 'distinct', 'distinguish', 'distribut', 'divid', 'divis', 'doe', 'doe depend', 'domain', 'done', 'dot', 'dot product', 'dual', 'dual space', 'due', 'dure', 'dynam', 'e', 'e.g', 'e.g.', 'earli', 'earli centuri', 'easi', 'easier', 'easili', 'econom', 'effect', 'effici', 'eigenvalu', 'eigenvector', 'either', 'electr', 'element', 'elementari', 'elimin', 'employ', 'empti', 'encod', 'end', 'end centuri', 'endomorph', 'engin', 'english', 'enough', 'entir', 'entri', 'entri matrix', 'equal', 'equal one', 'equat', 'equat n', 'equip', 'equival', 'error', 'especi', 'essenti', 'establish', 'etc', 'euclidean', 'euclidean space', 'euler', 'europ', 'evalu', 'even', 'even though', 'eventu', 'everi', 'everi vector', 'exact', 'exampl', 'exampl consid', 'except', 'exist', 'expand', 'expans', 'experi', 'explain', 'explicit', 'exponenti', 'express', 'extend', 'extens', 'extrem', 'f', 'f f', 'f v', 'f x', 'f.', 'fact', 'factor', 'fail', 'famili', 'familiar', 'famous', 'far', 'fast', 'faster', 'featur', 'field', 'field complex', 'field complex number', 'field f', 'field k', 'field real', 'field real number', 'figur', 'final', 'find', 'finit', 'finit field', 'finit number', 'finite-dimension', 'finite-dimension vector', 'finite-dimension vector space', 'first', 'first use', 'fit', 'fix', 'flat', 'fn', 'follow', 'follow three', 'forc', 'form', 'form basi', 'form group', 'formal', 'former', 'formul', 'formula', 'found', 'foundat', 'four', 'fourier', 'fourier transform', 'free', 'frequenc', 'frequent', 'frobenius', 'full', 'function', 'function analysi', 'function f', 'fundament', 'furthermor', 'g', 'g\\\\\\\\', 'gauss', 'gaussian', 'gaussian elimin', 'gave', 'general ani', 'general case', 'general linear', 'general linear group', 'general notion', 'general relat', 'generat', 'geometr', 'geometri', 'get', 'give', 'give rise', 'given', 'goal', 'good', 'graph', 'great', 'greater', 'greek', 'group', 'h', 'half', 'hand', 'happen', 'harmon', 'held', 'help', 'henc', 'hermitian', 'high', 'higher', 'higher dimens', 'hilbert', 'hilbert space', 'histor', 'histori', 'hold', 'homogen', 'homomorph', 'horizont', 'howev', 'i.e', 'i.e.', 'idea', 'ideal', 'ident', 'ident matrix', 'identifi', 'illustr', 'imag', 'imaginari', 'immedi', 'implement', 'impli', 'implicit', 'import', 'import exampl', 'improv', 'includ', 'increas', 'inde', 'independ', 'independ vector', 'index', 'indic', 'individu', 'induc', 'inequ', 'infinit', 'infinit mani', 'infinit number', 'infinite-dimension', 'influenc', 'inform', 'initi', 'inject', 'inner', 'inner product', 'input', 'instanc', 'instead', 'integ', 'integr', 'interchang', 'interest', 'interpret', 'intersect', 'interv', 'introduc', 'introduct', 'intuit', 'invari', 'invers', 'invers matrix', 'invert', 'invert matrix', 'investig', 'involv', \"is'b'th\", 'isomorph', 'issu', 'iter', 'ith', 'j', 'john', 'jordan', 'k', 'k.', 'kernel', 'key', 'kind', 'know', 'known', 'l', 'lack', 'lagrang', 'languag', 'laplac', 'larg', 'larger', 'last', 'later', 'latin', 'latter', 'law', 'lead', 'learn', 'least', 'least one', 'led', 'left', 'left right', 'leibniz', 'length', 'less', 'let', 'letter', 'level', 'lie', 'life', 'like', 'likewis', 'limit', 'line', 'linear', 'linear algebra', 'linear combin', 'linear equat', 'linear function', 'linear group', 'linear independ', 'linear independ vector', 'linear map', 'linear oper', 'linear subspac', 'linear transform', 'list', 'littl', 'local', 'logic', 'long', 'longer', 'look', 'lower', 'lu', 'lu decomposit', 'm.', 'm\\\\\\\\', 'made', 'magnitud', 'main', 'main diagon', 'major', 'make', 'make sens', 'make use', 'mani', 'mani differ', 'manifold', 'manipul', 'manner', 'map', 'map f', 'map v', 'mathemat', 'mathemat object', 'mathemat scienc', 'mathematician', 'matric', 'matrix', 'matrix a.', 'matrix also', 'matrix b', \"matrix b'the\", 'matrix determin', 'matrix equat', 'matrix form', 'matrix invert', 'matrix multipl', 'matrix product', 'matrix use', 'matrix x', 'matter', 'maxim', 'maximum', 'may', 'may also', 'may consid', 'may defin', 'may use', 'mean', 'measur', 'mechan', 'member', 'mention', 'mere', 'method', 'method comput', 'method solv', 'metric', 'middl', 'might', 'mind', 'minim', 'model', 'modern', 'modifi', 'modul', 'modular', 'moreov', 'morphism', 'motion', 'move', 'much', 'multipl', 'multipl defin', 'multipl oper', 'multipli', 'must', 'n', 'n matrix', 'n n', 'n-dimension', 'n.', 'name', 'natur', 'natur number', 'near', 'necessari', 'necessarili', 'need', 'negat', 'neither', 'never', 'nevertheless', 'new', 'newton', \"newton 's\", 'next', 'nine', 'non-commut', 'non-neg', 'non-zero', 'nonlinear', 'nonzero', 'norm', 'normal', 'notabl', 'notat', 'note', 'notion', 'null', 'number complex', 'number element', 'number theori', 'numer', 'object', 'observ', 'obtain', 'occur', 'odd', 'often', 'often use', 'old', 'onc', 'one consid', 'one exampl', 'one may', 'one use', 'onli', 'onli determin', 'onli one', 'onto', 'open', 'oper', 'oper addit', 'oper defin', 'opposit', 'order', 'ordinari', 'orient', 'origin', 'orthogon', 'orthonorm', 'orthonorm basi', 'otherwis', 'output', 'outsid', 'p', 'pair', 'paper', 'parallel', 'paramet', 'part', 'partial', 'particular', 'pass', 'pattern', 'perform', 'perhap', 'period', 'permut', 'perpendicular', 'phenomena', 'physic', 'physicist', 'place', 'plane', 'play', 'play role', 'point', 'point view', 'point x', 'polynomi', 'polynomi degre', 'polynomi function', 'posit', 'posit definit', 'possess', 'possibl', 'power', 'practic', 'preced', 'precis', 'prefer', 'present', 'preserv', 'previous', 'prime', 'princip', 'principl', 'probabl', 'problem', 'procedur', 'process', 'produc', 'product', 'product n', 'product space', 'product two', 'program', 'project', 'promin', 'proof', 'proper', 'properti', 'propos', 'prove', 'proven', 'provid', 'publish', 'pure', 'purpos', 'put', 'q', 'quadrat', 'quadrat form', 'quantiti', 'quantum', 'quantum mechan', 'quaternion', 'question', 'quit', 'quotient', 'r', 'r.', 'random', 'rang', 'rank', 'rank\\\\\\\\\\\\', 'rank\\\\\\\\\\\\ theorem', 'rather', 'ration', 'ration number', 'reach', 'read', 'real', 'real complex', 'real complex number', 'real matric', 'real number', 'real vector', 'reason', 'recent', 'reciproc', 'recogn', 'record', 'rectangular', 'recurs', 'reduc', 'reduct', 'refer', 'reflect', 'regard', 'regular', 'relat', 'relationship', 'relev', 'reli', 'remain', 'remark', 'remov', 'repeat', 'replac', 'repres', 'repres matrix', 'represent', 'represent theori', 'requir', 'research', 'respect', 'restrict', 'result', 'revers', 'right', 'rigor', 'ring', 'ring r', 'rise', 'rm', 'rn', 'role', 'root', 'rotat', 'rough', 'row', 'row vector', 'rule', 'run', 's.', 'said', 'satisfi', 'say', 'scalar', 'scalar multipl', 'scalar product', 'scale', 'scale factor', 'school', 'scienc', 'scientif', 'search', 'second', 'section', 'see', 'see also', 'seem', 'seen', 'sens', 'separ', 'sequenc', 'seri', 'serv', 'set', 'set integ', 'set n', 'set theori', 'set vector', 'sever', 'shape', 'share', 'show', 'shown', 'side', 'sign', 'signal', 'signific', 'similar', 'simpl', 'simpl exampl', 'simpler', 'simplest', 'simpli', 'simplifi', 'simul', 'simultan', 'sin', 'sinc', 'singl', 'singular', 'singular valu', 'singular valu decomposit', 'situat', 'size', 'slight', 'small', 'smaller', 'smallest', 'smooth', 'solut', 'solut equat', 'solut set', 'solv', 'solv system', 'solv system linear', 'sometim', 'sometim call', 'sometim refer', 'somewhat', 'space', 'space also', \"space b'the\", 'space exampl', 'space field', 'space general', 'space linear', 'space v', 'span', 'speak', 'special', 'special case', 'special relat', 'specif', 'specifi', 'spectral', 'sphere', 'squar', 'squar matric', 'squar matrix', 'squar root', 'standard', 'start', 'state', 'statement', 'statist', 'step', 'still', 'straight', 'straight line', 'strict', 'strong', 'structur', 'student', 'studi', 'subgroup', 'subject', 'subset', 'subspac', 'substitut', 'subtract', 'success', 'suffic', 'suffici', 'suggest', 'suitabl', 'sum', 'suppos', 'surfac', 'symbol', 'symmetr', 'symmetri', 'system', 'system linear', 'system linear equat', 'tabl', 'take', 'taken', 'tangent', 'task', 'technic', 'techniqu', 'tell', 'tensor', 'term', 'terminolog', 'test', 'text', 'textbook', 'themselv', 'theorem', 'theorem state', 'theoret', 'theori', 'theori general', 'therefor', 'thing', 'think', 'third', 'though', 'thought', 'three', 'three-dimension', 'three-dimension space', 'throughout', 'thus', 'time', 'titl', 'today', 'togeth', 'took', 'tool', 'top', 'topic', 'topolog', 'topolog space', 'topolog vector', 'topolog vector space', 'total', 'toward', 'trace', 'tradit', 'transform', 'translat', 'transpos', 'treat', 'treatis', 'treatment', 'triangular', 'triangular matrix', 'trigonometr', 'trivial', 'true', 'turn', 'two', 'two differ', 'two linear', 'two matric', 'two variabl', 'two vector', 'two-dimension', 'type', 'typic', 'u', 'u v', 'understand', 'understood', 'uniform', 'uniqu', 'uniqu determin', 'unit', 'unitari', 'univers', 'unknown', 'unless', 'unlik', 'upon', 'upper', 'upper bound', 'upper triangular', 'upper triangular matrix', 'us', 'usag', 'use comput', 'use defin', 'use find', 'use mathemat', 'use repres', 'use solv', 'use studi', 'use term', 'usual', 'v', 'v v', 'v vector', 'v w', 'v.', 'v\\\\\\\\\\\\', 'valid', 'valu', 'valu decomposit', 'vari', 'variabl', 'variabl x', 'variat', 'varieti', 'various', 'vector', 'vector space', 'vector space field', 'vector space v', 'vector v', 'vector x', 'veri', 'version', 'vertic', 'via', 'view', 'visual', 'vn', 'volum', 'von', 'w', 'w.', 'way', 'well', 'well-defin', 'wherea', 'whether', 'whi', 'whole', 'whose', 'wide', 'wide use', 'within', 'without', 'word', 'work', 'world', 'would', 'write', 'written', 'wrote', 'x', 'x x', 'x z', 'x.', 'x\\\\\\\\\\\\', 'xn', 'year', 'yet', 'yield', 'z', 'zero', 'zero vector']\n"
     ]
    }
   ],
   "source": [
    "terms = tfidf_vectorizer.get_feature_names()\n",
    "print(terms)"
   ]
  },
  {
   "cell_type": "code",
   "execution_count": 51,
   "metadata": {
    "collapsed": true
   },
   "outputs": [],
   "source": [
    "from sklearn.metrics.pairwise import cosine_similarity\n",
    "dist = 1 - cosine_similarity(tfidf_matrix)"
   ]
  },
  {
   "cell_type": "code",
   "execution_count": 52,
   "metadata": {},
   "outputs": [
    {
     "name": "stdout",
     "output_type": "stream",
     "text": [
      "Wall time: 1.62 s\n"
     ]
    }
   ],
   "source": [
    "from sklearn.cluster import KMeans\n",
    "\n",
    "num_clusters = 7\n",
    "\n",
    "km = KMeans(n_clusters=num_clusters)\n",
    "\n",
    "%time km.fit(tfidf_matrix)\n",
    "\n",
    "clusters = km.labels_.tolist()"
   ]
  },
  {
   "cell_type": "code",
   "execution_count": 53,
   "metadata": {
    "collapsed": true
   },
   "outputs": [],
   "source": [
    "from sklearn.externals import joblib\n",
    "\n",
    "joblib.dump(km,  'doc_cluster.pkl')\n",
    "km = joblib.load('doc_cluster.pkl')\n",
    "clusters = km.labels_.tolist()"
   ]
  },
  {
   "cell_type": "code",
   "execution_count": 54,
   "metadata": {
    "collapsed": true
   },
   "outputs": [],
   "source": [
    "results = { 'title': titles, 'rank': ranks, 'docs': docs, 'cluster': clusters}\n",
    "\n",
    "frame = pd.DataFrame(results, index = [clusters] , columns = ['rank', 'title', 'cluster'])"
   ]
  },
  {
   "cell_type": "code",
   "execution_count": 55,
   "metadata": {},
   "outputs": [
    {
     "name": "stdout",
     "output_type": "stream",
     "text": [
      "Top terms per cluster:\n",
      "\n",
      "Cluster 0 words: matrix, diagonal, matrices, eigenvalues, eigenvectors, entries,\n",
      "\n",
      "Cluster 0 titles: Diagonalizable matrix, Diagonal matrix,\n",
      "\n",
      "Cluster 1 words: set, mathematical, function, 's, theory, algebra,\n",
      "\n",
      "Cluster 1 titles: Algebraic geometry, Representation theory, Mathematical analysis, Algebra over a field, Multilinear algebra, Module (mathematics), Field (mathematics), Free module, Cramer's rule, Homogeneous coordinates, Inner product space, Dirichlet conditions, Fourier series, Linear least squares (mathematics), Triangular matrix, Normal matrix, Hermitian adjoint, CauchySchwarz inequality, Axiom, Inner product space, Polynomial, Algebraically closed field, Complex number, Invariant (mathematics), Eigenvalues and eigenvectors, Eigenvalues and eigenvectors, Inverse element, Cramer's rule, Standard basis, Coordinate system, Linear combination, Cardinality, Well-defined, Dimension theorem for vector spaces, Axiom of choice, Rational number, Linear combination,    real matrices, Origin (mathematics), Bijection, Isomorphism, Range (mathematics), Map (mathematics), Abelian group, Sequence, Function (mathematics), Polynomial ring, Field (mathematics), Real number, Set (mathematics), Binary operation, Element (mathematics), Scalar multiplication, Axiom, School Mathematics Study Group, Secondary school, Singular-value decomposition, Hseyin Tevfik Pasha, Giuseppe Peano, Abstract algebra, Quantum mechanics, Special relativity, Statistics, Algorithm, Hermann Grassmann, James Joseph Sylvester, Arthur Cayley, Gottfried Wilhelm Leibniz, Gabriel Cramer, Cramer's rule, Carl Friedrich Gauss, Geodesy, Geometry, Line (geometry), Plane (geometry), Rotation (mathematics), Engineering, Mathematical model, Mathematics,\n",
      "\n",
      "Cluster 2 words: equations, solutions, systems, linear, variables, line,\n",
      "\n",
      "Cluster 2 titles: System of polynomial equations, System of linear equations, Linear equation, Partial differential equation, System of linear equations, Nonlinear system, Linear equation,\n",
      "\n",
      "Cluster 3 words: matrix, determined, matrices, columns, n, entries,\n",
      "\n",
      "Cluster 3 titles: Identity matrix, Determinant, Invertible matrix, Matrix (mathematics), Matrix similarity, Determinant, Matrix (mathematics), Determinant, Determinant, Matrix (mathematics),\n",
      "\n",
      "Cluster 4 words: rows, matrix, eliminated, operates, reduced, elementary,\n",
      "\n",
      "Cluster 4 titles: Gaussian elimination, Gaussian elimination, Gaussian elimination,\n",
      "\n",
      "Cluster 5 words: vector, v, linear, spaces, vector, kernel,\n",
      "\n",
      "Cluster 5 titles: Linear algebra, Dual space, Tensor product, Linear map, Bilinear form, Kernel (linear algebra), Dimension (vector space), Linear independence, Basis (linear algebra), Linear span, Linear subspace, Kernel (linear algebra), Kernel (linear algebra), Linear map, Euclidean vector, Vector space, Linear map,\n",
      "\n",
      "Cluster 6 words: spaces, function, banach, linear, linear, function,\n",
      "\n",
      "Cluster 6 titles: Functional analysis, Lp space, Linear form, Functional analysis,\n",
      "\n"
     ]
    }
   ],
   "source": [
    "from __future__ import print_function\n",
    "\n",
    "print(\"Top terms per cluster:\")\n",
    "print()\n",
    "order_centroids = km.cluster_centers_.argsort()[:, ::-1]\n",
    "for i in range(num_clusters):\n",
    "    print(\"Cluster %d words:\" % i, end='')\n",
    "    for ind in order_centroids[i, :6]:\n",
    "        print(' %s' % vocab_frame.loc[terms[ind].split(' ')].values.tolist()[0][0], end=',')\n",
    "    print()\n",
    "    print()\n",
    "    print(\"Cluster %d titles:\" % i, end='')\n",
    "    for title in frame.loc[i]['title'].values.tolist():\n",
    "        print(' %s,' % title, end='')\n",
    "    print()\n",
    "    print()"
   ]
  },
  {
   "cell_type": "code",
   "execution_count": 59,
   "metadata": {},
   "outputs": [
    {
     "data": {
      "text/html": [
       "<div>\n",
       "<style>\n",
       "    .dataframe thead tr:only-child th {\n",
       "        text-align: right;\n",
       "    }\n",
       "\n",
       "    .dataframe thead th {\n",
       "        text-align: left;\n",
       "    }\n",
       "\n",
       "    .dataframe tbody tr th {\n",
       "        vertical-align: top;\n",
       "    }\n",
       "</style>\n",
       "<table border=\"1\" class=\"dataframe\">\n",
       "  <thead>\n",
       "    <tr style=\"text-align: right;\">\n",
       "      <th></th>\n",
       "      <th>rank</th>\n",
       "      <th>title</th>\n",
       "      <th>cluster</th>\n",
       "    </tr>\n",
       "  </thead>\n",
       "  <tbody>\n",
       "    <tr>\n",
       "      <th>1</th>\n",
       "      <td>1</td>\n",
       "      <td>Algebraic geometry</td>\n",
       "      <td>1</td>\n",
       "    </tr>\n",
       "    <tr>\n",
       "      <th>1</th>\n",
       "      <td>3</td>\n",
       "      <td>Representation theory</td>\n",
       "      <td>1</td>\n",
       "    </tr>\n",
       "    <tr>\n",
       "      <th>1</th>\n",
       "      <td>5</td>\n",
       "      <td>Mathematical analysis</td>\n",
       "      <td>1</td>\n",
       "    </tr>\n",
       "    <tr>\n",
       "      <th>1</th>\n",
       "      <td>7</td>\n",
       "      <td>Algebra over a field</td>\n",
       "      <td>1</td>\n",
       "    </tr>\n",
       "    <tr>\n",
       "      <th>1</th>\n",
       "      <td>8</td>\n",
       "      <td>Multilinear algebra</td>\n",
       "      <td>1</td>\n",
       "    </tr>\n",
       "  </tbody>\n",
       "</table>\n",
       "</div>"
      ],
      "text/plain": [
       "   rank                  title  cluster\n",
       "1     1     Algebraic geometry        1\n",
       "1     3  Representation theory        1\n",
       "1     5  Mathematical analysis        1\n",
       "1     7   Algebra over a field        1\n",
       "1     8    Multilinear algebra        1"
      ]
     },
     "execution_count": 59,
     "metadata": {},
     "output_type": "execute_result"
    }
   ],
   "source": [
    "frame.loc[frame['cluster'] == 1].head()"
   ]
  },
  {
   "cell_type": "code",
   "execution_count": 75,
   "metadata": {},
   "outputs": [
    {
     "data": {
      "text/html": [
       "<div>\n",
       "<style>\n",
       "    .dataframe thead tr:only-child th {\n",
       "        text-align: right;\n",
       "    }\n",
       "\n",
       "    .dataframe thead th {\n",
       "        text-align: left;\n",
       "    }\n",
       "\n",
       "    .dataframe tbody tr th {\n",
       "        vertical-align: top;\n",
       "    }\n",
       "</style>\n",
       "<table border=\"1\" class=\"dataframe\">\n",
       "  <thead>\n",
       "    <tr style=\"text-align: right;\">\n",
       "      <th></th>\n",
       "      <th>origin_link</th>\n",
       "      <th>outgoing_link</th>\n",
       "      <th>origin_title</th>\n",
       "      <th>outgoing_title</th>\n",
       "    </tr>\n",
       "  </thead>\n",
       "  <tbody>\n",
       "    <tr>\n",
       "      <th>0</th>\n",
       "      <td>b'https://en.wikipedia.org/wiki/Linear_algebra'</td>\n",
       "      <td>b'/wiki/Algebraic_geometry'</td>\n",
       "      <td>b'Linear algebra'</td>\n",
       "      <td>b'Algebraic geometry'</td>\n",
       "    </tr>\n",
       "    <tr>\n",
       "      <th>1</th>\n",
       "      <td>b'https://en.wikipedia.org/wiki/Linear_algebra'</td>\n",
       "      <td>b'/wiki/Systems_of_polynomial_equations'</td>\n",
       "      <td>b'Linear algebra'</td>\n",
       "      <td>b'Systems of polynomial equations'</td>\n",
       "    </tr>\n",
       "    <tr>\n",
       "      <th>2</th>\n",
       "      <td>b'https://en.wikipedia.org/wiki/Linear_algebra'</td>\n",
       "      <td>b'/wiki/Representation_theory'</td>\n",
       "      <td>b'Linear algebra'</td>\n",
       "      <td>b'Representation theory'</td>\n",
       "    </tr>\n",
       "    <tr>\n",
       "      <th>3</th>\n",
       "      <td>b'https://en.wikipedia.org/wiki/Linear_algebra'</td>\n",
       "      <td>b'/wiki/Functional_analysis'</td>\n",
       "      <td>b'Linear algebra'</td>\n",
       "      <td>b'Functional analysis'</td>\n",
       "    </tr>\n",
       "    <tr>\n",
       "      <th>4</th>\n",
       "      <td>b'https://en.wikipedia.org/wiki/Linear_algebra'</td>\n",
       "      <td>b'/wiki/Mathematical_analysis'</td>\n",
       "      <td>b'Linear algebra'</td>\n",
       "      <td>b'Mathematical analysis'</td>\n",
       "    </tr>\n",
       "  </tbody>\n",
       "</table>\n",
       "</div>"
      ],
      "text/plain": [
       "                                       origin_link  \\\n",
       "0  b'https://en.wikipedia.org/wiki/Linear_algebra'   \n",
       "1  b'https://en.wikipedia.org/wiki/Linear_algebra'   \n",
       "2  b'https://en.wikipedia.org/wiki/Linear_algebra'   \n",
       "3  b'https://en.wikipedia.org/wiki/Linear_algebra'   \n",
       "4  b'https://en.wikipedia.org/wiki/Linear_algebra'   \n",
       "\n",
       "                              outgoing_link       origin_title  \\\n",
       "0               b'/wiki/Algebraic_geometry'  b'Linear algebra'   \n",
       "1  b'/wiki/Systems_of_polynomial_equations'  b'Linear algebra'   \n",
       "2            b'/wiki/Representation_theory'  b'Linear algebra'   \n",
       "3              b'/wiki/Functional_analysis'  b'Linear algebra'   \n",
       "4            b'/wiki/Mathematical_analysis'  b'Linear algebra'   \n",
       "\n",
       "                       outgoing_title  \n",
       "0               b'Algebraic geometry'  \n",
       "1  b'Systems of polynomial equations'  \n",
       "2            b'Representation theory'  \n",
       "3              b'Functional analysis'  \n",
       "4            b'Mathematical analysis'  "
      ]
     },
     "execution_count": 75,
     "metadata": {},
     "output_type": "execute_result"
    }
   ],
   "source": [
    "df = pd.read_csv('../data/linalg_links2.csv', encoding='latin1', header=0)\n",
    "df.head()"
   ]
  },
  {
   "cell_type": "code",
   "execution_count": 77,
   "metadata": {},
   "outputs": [
    {
     "ename": "SyntaxError",
     "evalue": "invalid syntax (<ipython-input-77-15e5f577fbe7>, line 1)",
     "output_type": "error",
     "traceback": [
      "\u001b[1;36m  File \u001b[1;32m\"<ipython-input-77-15e5f577fbe7>\"\u001b[1;36m, line \u001b[1;32m1\u001b[0m\n\u001b[1;33m    def remGross(string s):\u001b[0m\n\u001b[1;37m                        ^\u001b[0m\n\u001b[1;31mSyntaxError\u001b[0m\u001b[1;31m:\u001b[0m invalid syntax\n"
     ]
    }
   ],
   "source": [
    "def remGross(s):\n",
    "    return s[2:-2]"
   ]
  },
  {
   "cell_type": "code",
   "execution_count": null,
   "metadata": {
    "collapsed": true
   },
   "outputs": [],
   "source": []
  }
 ],
 "metadata": {
  "kernelspec": {
   "display_name": "Python 3",
   "language": "python",
   "name": "python3"
  },
  "language_info": {
   "codemirror_mode": {
    "name": "ipython",
    "version": 3
   },
   "file_extension": ".py",
   "mimetype": "text/x-python",
   "name": "python",
   "nbconvert_exporter": "python",
   "pygments_lexer": "ipython3",
   "version": "3.6.1"
  }
 },
 "nbformat": 4,
 "nbformat_minor": 2
}
