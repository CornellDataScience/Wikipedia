{
 "cells": [
  {
   "cell_type": "code",
   "execution_count": null,
   "metadata": {
    "collapsed": true
   },
   "outputs": [],
   "source": [
    "# takes a DiGraph object from NetworkX"
   ]
  },
  {
   "cell_type": "code",
   "execution_count": 2,
   "metadata": {},
   "outputs": [],
   "source": [
    "import itertools\n",
    "import copy\n",
    "import networkx as nx\n",
    "import pandas as pd\n",
    "import matplotlib.pyplot as plt\n",
    "\n",
    "edgelist = pd.read_csv('https://gist.githubusercontent.com/brooksandrew/e570c38bcc72a8d102422f2af836513b/raw/89c76b2563dbc0e88384719a35cba0dfc04cd522/edgelist_sleeping_giant.csv')"
   ]
  },
  {
   "cell_type": "code",
   "execution_count": 3,
   "metadata": {},
   "outputs": [
    {
     "data": {
      "text/html": [
       "<div>\n",
       "<style>\n",
       "    .dataframe thead tr:only-child th {\n",
       "        text-align: right;\n",
       "    }\n",
       "\n",
       "    .dataframe thead th {\n",
       "        text-align: left;\n",
       "    }\n",
       "\n",
       "    .dataframe tbody tr th {\n",
       "        vertical-align: top;\n",
       "    }\n",
       "</style>\n",
       "<table border=\"1\" class=\"dataframe\">\n",
       "  <thead>\n",
       "    <tr style=\"text-align: right;\">\n",
       "      <th></th>\n",
       "      <th>node1</th>\n",
       "      <th>node2</th>\n",
       "      <th>trail</th>\n",
       "      <th>distance</th>\n",
       "      <th>color</th>\n",
       "      <th>estimate</th>\n",
       "    </tr>\n",
       "  </thead>\n",
       "  <tbody>\n",
       "    <tr>\n",
       "      <th>0</th>\n",
       "      <td>rs_end_north</td>\n",
       "      <td>v_rs</td>\n",
       "      <td>rs</td>\n",
       "      <td>0.30</td>\n",
       "      <td>red</td>\n",
       "      <td>0</td>\n",
       "    </tr>\n",
       "    <tr>\n",
       "      <th>1</th>\n",
       "      <td>v_rs</td>\n",
       "      <td>b_rs</td>\n",
       "      <td>rs</td>\n",
       "      <td>0.21</td>\n",
       "      <td>red</td>\n",
       "      <td>0</td>\n",
       "    </tr>\n",
       "    <tr>\n",
       "      <th>2</th>\n",
       "      <td>b_rs</td>\n",
       "      <td>g_rs</td>\n",
       "      <td>rs</td>\n",
       "      <td>0.11</td>\n",
       "      <td>red</td>\n",
       "      <td>0</td>\n",
       "    </tr>\n",
       "    <tr>\n",
       "      <th>3</th>\n",
       "      <td>g_rs</td>\n",
       "      <td>w_rs</td>\n",
       "      <td>rs</td>\n",
       "      <td>0.18</td>\n",
       "      <td>red</td>\n",
       "      <td>0</td>\n",
       "    </tr>\n",
       "    <tr>\n",
       "      <th>4</th>\n",
       "      <td>w_rs</td>\n",
       "      <td>o_rs</td>\n",
       "      <td>rs</td>\n",
       "      <td>0.21</td>\n",
       "      <td>red</td>\n",
       "      <td>0</td>\n",
       "    </tr>\n",
       "  </tbody>\n",
       "</table>\n",
       "</div>"
      ],
      "text/plain": [
       "          node1 node2 trail  distance color  estimate\n",
       "0  rs_end_north  v_rs    rs      0.30   red         0\n",
       "1          v_rs  b_rs    rs      0.21   red         0\n",
       "2          b_rs  g_rs    rs      0.11   red         0\n",
       "3          g_rs  w_rs    rs      0.18   red         0\n",
       "4          w_rs  o_rs    rs      0.21   red         0"
      ]
     },
     "execution_count": 3,
     "metadata": {},
     "output_type": "execute_result"
    }
   ],
   "source": [
    "edgelist.head(5)"
   ]
  },
  {
   "cell_type": "code",
   "execution_count": null,
   "metadata": {
    "collapsed": true
   },
   "outputs": [],
   "source": []
  },
  {
   "cell_type": "code",
   "execution_count": null,
   "metadata": {
    "collapsed": true
   },
   "outputs": [],
   "source": []
  },
  {
   "cell_type": "code",
   "execution_count": null,
   "metadata": {
    "collapsed": true
   },
   "outputs": [],
   "source": [
    "# input dataframe should have source node, target node, and weight (estimate?)"
   ]
  },
  {
   "cell_type": "code",
   "execution_count": 4,
   "metadata": {
    "collapsed": true
   },
   "outputs": [],
   "source": [
    "# Grab node list data hosted on Gist\n",
    "nodelist = pd.read_csv('https://gist.githubusercontent.com/brooksandrew/f989e10af17fb4c85b11409fea47895b/raw/a3a8da0fa5b094f1ca9d82e1642b384889ae16e8/nodelist_sleeping_giant.csv')"
   ]
  },
  {
   "cell_type": "code",
   "execution_count": 5,
   "metadata": {},
   "outputs": [
    {
     "data": {
      "text/html": [
       "<div>\n",
       "<style>\n",
       "    .dataframe thead tr:only-child th {\n",
       "        text-align: right;\n",
       "    }\n",
       "\n",
       "    .dataframe thead th {\n",
       "        text-align: left;\n",
       "    }\n",
       "\n",
       "    .dataframe tbody tr th {\n",
       "        vertical-align: top;\n",
       "    }\n",
       "</style>\n",
       "<table border=\"1\" class=\"dataframe\">\n",
       "  <thead>\n",
       "    <tr style=\"text-align: right;\">\n",
       "      <th></th>\n",
       "      <th>id</th>\n",
       "      <th>X</th>\n",
       "      <th>Y</th>\n",
       "    </tr>\n",
       "  </thead>\n",
       "  <tbody>\n",
       "    <tr>\n",
       "      <th>0</th>\n",
       "      <td>b_bv</td>\n",
       "      <td>1486</td>\n",
       "      <td>732</td>\n",
       "    </tr>\n",
       "    <tr>\n",
       "      <th>1</th>\n",
       "      <td>b_bw</td>\n",
       "      <td>716</td>\n",
       "      <td>1357</td>\n",
       "    </tr>\n",
       "    <tr>\n",
       "      <th>2</th>\n",
       "      <td>b_end_east</td>\n",
       "      <td>3164</td>\n",
       "      <td>1111</td>\n",
       "    </tr>\n",
       "    <tr>\n",
       "      <th>3</th>\n",
       "      <td>b_end_west</td>\n",
       "      <td>141</td>\n",
       "      <td>1938</td>\n",
       "    </tr>\n",
       "    <tr>\n",
       "      <th>4</th>\n",
       "      <td>b_g</td>\n",
       "      <td>1725</td>\n",
       "      <td>771</td>\n",
       "    </tr>\n",
       "  </tbody>\n",
       "</table>\n",
       "</div>"
      ],
      "text/plain": [
       "           id     X     Y\n",
       "0        b_bv  1486   732\n",
       "1        b_bw   716  1357\n",
       "2  b_end_east  3164  1111\n",
       "3  b_end_west   141  1938\n",
       "4         b_g  1725   771"
      ]
     },
     "execution_count": 5,
     "metadata": {},
     "output_type": "execute_result"
    }
   ],
   "source": [
    "nodelist.head(5)"
   ]
  },
  {
   "cell_type": "code",
   "execution_count": 6,
   "metadata": {
    "collapsed": true
   },
   "outputs": [],
   "source": [
    "g = nx.DiGraph()"
   ]
  },
  {
   "cell_type": "code",
   "execution_count": 10,
   "metadata": {
    "collapsed": true
   },
   "outputs": [],
   "source": [
    "for i, elrow in edgelist.iterrows():\n",
    "    g.add_edge(elrow[0], elrow[1], weight = elrow[3])"
   ]
  },
  {
   "cell_type": "code",
   "execution_count": 12,
   "metadata": {},
   "outputs": [],
   "source": [
    "for i, nlrow in nodelist.iterrows():\n",
    "    g.node[nlrow['id']] = nlrow[1:].to_dict()"
   ]
  },
  {
   "cell_type": "code",
   "execution_count": 15,
   "metadata": {},
   "outputs": [
    {
     "data": {
      "text/plain": [
       "[('w_bw', 'g_w', {'weight': 0.09}),\n",
       " ('y_rt', 'y_gy1', {'weight': 0.31}),\n",
       " ('y_rt', 'rt_end_south', {'weight': 0.18}),\n",
       " ('g_w', 'g_rt', {'weight': 0.31}),\n",
       " ('g_w', 'o_w_1', {'weight': 0.18})]"
      ]
     },
     "execution_count": 15,
     "metadata": {},
     "output_type": "execute_result"
    }
   ],
   "source": [
    "g.edges(data=True)[0:5]"
   ]
  },
  {
   "cell_type": "code",
   "execution_count": 16,
   "metadata": {},
   "outputs": [
    {
     "data": {
      "text/plain": [
       "[('w_bw', {'X': 664, 'Y': 1492}),\n",
       " ('y_rt', {'X': 977, 'Y': 1666}),\n",
       " ('g_w', {'X': 700, 'Y': 1582}),\n",
       " ('b_tt_2_dupe', {'X': 857, 'Y': 1287}),\n",
       " ('tt_rt', {'X': 833, 'Y': 1273})]"
      ]
     },
     "execution_count": 16,
     "metadata": {},
     "output_type": "execute_result"
    }
   ],
   "source": [
    "g.nodes(data=True)[0:5]"
   ]
  },
  {
   "cell_type": "code",
   "execution_count": 17,
   "metadata": {
    "collapsed": true
   },
   "outputs": [],
   "source": [
    "# start the counter\n",
    "counter = 0\n",
    "# start the execution counter\n",
    "exe_counter = 0"
   ]
  },
  {
   "cell_type": "code",
   "execution_count": 18,
   "metadata": {
    "collapsed": true
   },
   "outputs": [],
   "source": [
    "import random"
   ]
  },
  {
   "cell_type": "code",
   "execution_count": 36,
   "metadata": {},
   "outputs": [],
   "source": [
    "while exe_counter < 10:\n",
    "    # choose a random start node\n",
    "    rand_node = random.choice(g.nodes())\n",
    "    # dict that associate the nodes with how many times it has been visited\n",
    "    visited_nodes = {}\n",
    "    \n",
    "    # execute the random walk with size 10 (10 steps)\n",
    "    while counter < 10:\n",
    "        if rand_node in visited_nodes:\n",
    "            visited_nodes[rand_node] += 1\n",
    "        else: \n",
    "            visited_nodes[rand_node] = 1\n",
    "            \n",
    "        try:     \n",
    "            # visualize the neighbors of node\n",
    "            node_neighbors = g.neighbors(rand_node)\n",
    "            # pick a neighbor from the neighbors to star the next random walk\n",
    "            rand_node = random.choice(node_neighbors)\n",
    "        except nx.NetworkXError:\n",
    "            print(\"uh oh\")\n",
    "        # increment counter\n",
    "        counter += 1\n",
    "    \n",
    "    # organize the node list in most visited descending\n",
    "    most_visited = sorted(visited_nodes, key = visited_nodes.get, reverse = True)\n",
    "    print(most_visited[:10])\n",
    "    \n",
    "    # restart the cycle\n",
    "    exe_counter += 1\n",
    "    counter = 0   "
   ]
  },
  {
   "cell_type": "code",
   "execution_count": 100,
   "metadata": {
    "collapsed": true
   },
   "outputs": [],
   "source": [
    "def DiGraphRandomWalk(G, niters, weight=True):\n",
    "    # init a random node\n",
    "    rand_node = random.choice(G.nodes())\n",
    "    visited_nodes = {}\n",
    "    \n",
    "    if weight == True:\n",
    "        # run simulation niters times\n",
    "        for i in range(niters):\n",
    "            # record current node\n",
    "            if rand_node in visited_nodes:\n",
    "                visited_nodes[rand_node] += 1\n",
    "            else: \n",
    "                visited_nodes[rand_node] = 1\n",
    "            # access neighboring nodes\n",
    "            node_neighbors = g.edges(rand_node, data='weight')\n",
    "            # make sure neighbors exist\n",
    "            if len(node_neighbors) == 0:\n",
    "                break\n",
    "            # pick a most likely neighbor in terms of edge weight\n",
    "            sorted_neighbors = sorted(node_neighbors, key=lambda el: el[2], reverse=True)\n",
    "            # update rand_node for next iteration\n",
    "            rand_node = sorted_neighbors[0][0]\n",
    "    return visited_nodes\n",
    "            "
   ]
  },
  {
   "cell_type": "code",
   "execution_count": 104,
   "metadata": {},
   "outputs": [
    {
     "name": "stdout",
     "output_type": "stream",
     "text": [
      "{'g_rs': 10}\n"
     ]
    }
   ],
   "source": [
    "DiGraphRandomWalk(g, 10)"
   ]
  },
  {
   "cell_type": "code",
   "execution_count": 87,
   "metadata": {},
   "outputs": [
    {
     "name": "stdout",
     "output_type": "stream",
     "text": [
      "[('g_rt', 'o_rt', 0.05), ('g_rt', 'g_gy1', 0.26)]\n"
     ]
    }
   ],
   "source": [
    "g.neighbors('g_rt')\n",
    "neighbors = g.edges('g_rt', data='weight')\n",
    "print(neighbors)"
   ]
  },
  {
   "cell_type": "code",
   "execution_count": 82,
   "metadata": {},
   "outputs": [],
   "source": [
    "sorted_neighbors = sorted(neighbors, key=lambda el: el[2], reverse=True)"
   ]
  },
  {
   "cell_type": "code",
   "execution_count": 83,
   "metadata": {},
   "outputs": [
    {
     "data": {
      "text/plain": [
       "[('g_rt', 'g_gy1', 0.26), ('g_rt', 'o_rt', 0.05)]"
      ]
     },
     "execution_count": 83,
     "metadata": {},
     "output_type": "execute_result"
    }
   ],
   "source": [
    "sorted_neighbors"
   ]
  },
  {
   "cell_type": "code",
   "execution_count": 66,
   "metadata": {},
   "outputs": [
    {
     "name": "stdout",
     "output_type": "stream",
     "text": [
      "w_bw g_w 0.09\n",
      "y_rt y_gy1 0.31\n",
      "y_rt rt_end_south 0.18\n",
      "g_w g_rt 0.31\n",
      "g_w o_w_1 0.18\n",
      "b_tt_2_dupe b_tt_3_dupe 0.18\n",
      "tt_rt b_tt_2 0.06\n",
      "tt_rt b_rt 0.04\n",
      "g_rt o_rt 0.05\n",
      "g_rt g_gy1 0.26\n",
      "b_rd b_rh 0.53\n",
      "b_rd rd_end_south 0.13\n",
      "b_rd b_rd_dupe 0.0\n",
      "o_w_1 o_rt 0.13\n",
      "o_w_1 w_rt 0.09\n",
      "o_w_1 o_gy1 0.24\n",
      "o_y_tt_end_west o_rh 0.32\n",
      "o_y_tt_end_west nature_end_west 0.16\n",
      "o_y_tt_end_west y_rh 0.26\n",
      "b_tt_2 b_tt_3 0.15\n",
      "b_tt_2 b_tt_2_dupe 0.0\n",
      "b_tt_3 b_tt_3_dupe 0.0\n",
      "b_tt_3 b_rc 0.4\n",
      "b_end_west b_v 0.32\n",
      "v_rt v_rc 0.5\n",
      "v_rt tt_rt 0.16\n",
      "rd_end_north v_rd 0.14\n",
      "y_rc y_rs 0.53\n",
      "y_rc rc_end_south 0.36\n",
      "y_gy1 y_rc 0.18\n",
      "rh_end_tt_3 o_tt 0.11\n",
      "b_rh b_tt_1 0.06\n",
      "b_rh rh_end_tt_1 0.06\n",
      "w_gy1 y_gy1 0.14\n",
      "w_gy1 w_rc 0.33\n",
      "b_gy2 o_gy2 0.07\n",
      "b_gy2 b_o 0.05\n",
      "rd_end_south_dupe b_rd_dupe 0.16\n",
      "bstub_w b_v 0.1\n",
      "bstub_w w_tt 0.38\n",
      "w_gy2 b_gy2 0.03\n",
      "w_gy2 park_east 0.12\n",
      "o_tt y_rt 0.35\n",
      "o_tt rh_end_tt_2 0.13\n",
      "o_tt o_w_1 0.27\n",
      "y_gy2 b_y 0.28\n",
      "w_rc o_w_2 0.23\n",
      "w_rc y_rc 0.14\n",
      "w_rs b_w 0.06\n",
      "w_rs o_rs 0.21\n",
      "rh_end_north v_rh 0.24\n",
      "o_gy2 y_gy2 0.12\n",
      "o_gy2 b_o 0.06\n",
      "b_rt b_tt_2 0.03\n",
      "b_rt g_rt 0.09\n",
      "b_tt_1 tt_rt 0.36\n",
      "b_tt_1 b_bw 0.18\n",
      "v_rc b_rc 0.04\n",
      "v_rc v_bv 0.27\n",
      "rh_end_tt_4 rh_end_tt_3 0.15\n",
      "rh_end_tt_4 y_rh 0.09\n",
      "g_gy1 g_rc 0.37\n",
      "g_gy1 o_gy1 0.15\n",
      "rc_end_north v_rc 0.7\n",
      "o_rh rh_end_tt_3 0.04\n",
      "o_rh o_tt 0.08\n",
      "nature_end_west rh_end_tt_4 0.2\n",
      "nature_end_west y_rh 0.11\n",
      "rh_end_tt_1 b_tt_1 0.03\n",
      "g_rc o_rc 0.13\n",
      "g_rc g_rs 0.45\n",
      "o_rs y_rs 0.12\n",
      "o_rs o_gy2 0.33\n",
      "b_bw w_bw 0.19\n",
      "b_bw b_rt 0.14\n",
      "b_rs b_g 0.07\n",
      "b_rs g_rs 0.11\n",
      "o_rt w_rt 0.06\n",
      "w_rt y_rt 0.19\n",
      "w_rt w_gy1 0.33\n",
      "v_end_west b_v 0.13\n",
      "v_rh b_rh 0.12\n",
      "v_rh v_rt 0.44\n",
      "rt_end_north v_rt 0.3\n",
      "rh_end_tt_2 o_rh 0.07\n",
      "rh_end_tt_2 w_tt 0.06\n",
      "b_v v_rd 0.3\n",
      "b_v rd_end_south 0.04\n",
      "b_w b_gy2 0.41\n",
      "b_w w_gy2 0.42\n",
      "v_rs v_end_east 0.54\n",
      "v_rs b_rs 0.21\n",
      "b_bv b_rs 0.43\n",
      "b_y b_end_east 1.32\n",
      "b_y park_east 0.14\n",
      "v_rd v_rh 0.38\n",
      "v_rd b_rd 0.06\n",
      "rd_end_south rd_end_south_dupe 0.0\n",
      "g_rs w_rs 0.18\n",
      "g_rs b_g 0.05\n",
      "o_rc o_w_2 0.11\n",
      "o_rc w_rc 0.23\n",
      "g_gy2 park_east 0.14\n",
      "g_gy2 w_gy2 0.05\n",
      "b_o b_y 0.08\n",
      "b_o park_east 0.11\n",
      "b_g b_w 0.16\n",
      "b_g g_gy2 0.45\n",
      "rs_end_north v_rs 0.3\n",
      "b_rc g_rc 0.15\n",
      "b_rc b_bv 0.41\n",
      "y_rh y_rt 0.32\n",
      "y_rh rh_end_south 0.06\n",
      "y_rs rs_end_south 0.39\n",
      "y_rs y_gy2 0.16\n",
      "w_tt w_bw 0.24\n",
      "w_tt rh_end_tt_1 0.08\n",
      "o_gy1 o_rc 0.58\n",
      "o_gy1 w_gy1 0.16\n",
      "o_w_2 w_rs 0.26\n",
      "o_w_2 o_rs 0.15\n",
      "v_bv b_bv 0.08\n",
      "v_bv v_rs 0.52\n"
     ]
    }
   ],
   "source": [
    "for u, v, weight in g.edges(data='weight'):\n",
    "    if weight is not None:\n",
    "        "
   ]
  },
  {
   "cell_type": "code",
   "execution_count": 63,
   "metadata": {
    "scrolled": true
   },
   "outputs": [
    {
     "name": "stdout",
     "output_type": "stream",
     "text": [
      "('w_bw', 'g_w')\n",
      "('g_w', 'g_rt')\n",
      "('g_rt', 'o_rt')\n",
      "('o_rt', 'w_rt')\n",
      "('w_rt', 'y_rt')\n",
      "('y_rt', 'y_gy1')\n",
      "('y_gy1', 'y_rc')\n",
      "('y_rc', 'y_rs')\n",
      "('y_rs', 'rs_end_south')\n",
      "('y_rs', 'y_gy2')\n",
      "('y_gy2', 'b_y')\n",
      "('b_y', 'b_end_east')\n",
      "('b_y', 'park_east')\n",
      "('y_rc', 'rc_end_south')\n",
      "('y_rt', 'rt_end_south')\n",
      "('w_rt', 'w_gy1')\n",
      "('w_gy1', 'w_rc')\n",
      "('w_rc', 'o_w_2')\n",
      "('o_w_2', 'w_rs')\n",
      "('w_rs', 'b_w')\n",
      "('b_w', 'b_gy2')\n",
      "('b_gy2', 'o_gy2')\n",
      "('o_gy2', 'b_o')\n",
      "('b_w', 'w_gy2')\n",
      "('w_rs', 'o_rs')\n",
      "('g_rt', 'g_gy1')\n",
      "('g_gy1', 'g_rc')\n",
      "('g_rc', 'o_rc')\n",
      "('g_rc', 'g_rs')\n",
      "('g_rs', 'b_g')\n",
      "('b_g', 'g_gy2')\n",
      "('g_gy1', 'o_gy1')\n",
      "('g_w', 'o_w_1')\n",
      "('b_tt_2_dupe', 'b_tt_3_dupe')\n",
      "('tt_rt', 'b_tt_2')\n",
      "('b_tt_2', 'b_tt_3')\n",
      "('b_tt_3', 'b_rc')\n",
      "('b_rc', 'b_bv')\n",
      "('b_bv', 'b_rs')\n",
      "('tt_rt', 'b_rt')\n",
      "('b_rd', 'b_rh')\n",
      "('b_rh', 'b_tt_1')\n",
      "('b_tt_1', 'b_bw')\n",
      "('b_rh', 'rh_end_tt_1')\n",
      "('b_rd', 'rd_end_south')\n",
      "('rd_end_south', 'rd_end_south_dupe')\n",
      "('rd_end_south_dupe', 'b_rd_dupe')\n",
      "('o_y_tt_end_west', 'o_rh')\n",
      "('o_rh', 'rh_end_tt_3')\n",
      "('rh_end_tt_3', 'o_tt')\n",
      "('o_tt', 'rh_end_tt_2')\n",
      "('rh_end_tt_2', 'w_tt')\n",
      "('o_y_tt_end_west', 'nature_end_west')\n",
      "('nature_end_west', 'rh_end_tt_4')\n",
      "('rh_end_tt_4', 'y_rh')\n",
      "('y_rh', 'rh_end_south')\n",
      "('b_end_west', 'b_v')\n",
      "('b_v', 'v_rd')\n",
      "('v_rd', 'v_rh')\n",
      "('v_rh', 'v_rt')\n",
      "('v_rt', 'v_rc')\n",
      "('v_rc', 'v_bv')\n",
      "('v_bv', 'v_rs')\n",
      "('v_rs', 'v_end_east')\n"
     ]
    }
   ],
   "source": [
    "for i in nx.dfs_edges(g):\n",
    "    print(i)"
   ]
  },
  {
   "cell_type": "code",
   "execution_count": 41,
   "metadata": {},
   "outputs": [
    {
     "data": {
      "text/plain": [
       "['o_y_tt_end_west']"
      ]
     },
     "execution_count": 41,
     "metadata": {},
     "output_type": "execute_result"
    }
   ],
   "source": [
    "most_visited"
   ]
  },
  {
   "cell_type": "code",
   "execution_count": 43,
   "metadata": {
    "scrolled": true
   },
   "outputs": [
    {
     "name": "stderr",
     "output_type": "stream",
     "text": [
      "/Users/jimzedli/anaconda3/lib/python3.5/site-packages/networkx/drawing/nx_pylab.py:126: MatplotlibDeprecationWarning: pyplot.hold is deprecated.\n",
      "    Future behavior will be consistent with the long-time default:\n",
      "    plot commands add elements without first clearing the\n",
      "    Axes and/or Figure.\n",
      "  b = plt.ishold()\n",
      "/Users/jimzedli/anaconda3/lib/python3.5/site-packages/networkx/drawing/nx_pylab.py:522: MatplotlibDeprecationWarning: The is_string_like function was deprecated in version 2.1.\n",
      "  if not cb.is_string_like(edge_color) \\\n",
      "/Users/jimzedli/anaconda3/lib/python3.5/site-packages/networkx/drawing/nx_pylab.py:543: MatplotlibDeprecationWarning: The is_string_like function was deprecated in version 2.1.\n",
      "  if cb.is_string_like(edge_color) or len(edge_color) == 1:\n",
      "/Users/jimzedli/anaconda3/lib/python3.5/site-packages/networkx/drawing/nx_pylab.py:138: MatplotlibDeprecationWarning: pyplot.hold is deprecated.\n",
      "    Future behavior will be consistent with the long-time default:\n",
      "    plot commands add elements without first clearing the\n",
      "    Axes and/or Figure.\n",
      "  plt.hold(b)\n",
      "/Users/jimzedli/anaconda3/lib/python3.5/site-packages/matplotlib/__init__.py:901: MatplotlibDeprecationWarning: axes.hold is deprecated. Please remove it from your matplotlibrc and/or style files.\n",
      "  mplDeprecation)\n",
      "/Users/jimzedli/anaconda3/lib/python3.5/site-packages/matplotlib/rcsetup.py:156: MatplotlibDeprecationWarning: axes.hold is deprecated, will be removed in 3.0\n",
      "  mplDeprecation)\n"
     ]
    },
    {
     "data": {
      "image/png": "[encoded data removed]",
      "text/plain": [
       "<Figure size 432x288 with 1 Axes>"
      ]
     },
     "metadata": {},
     "output_type": "display_data"
    }
   ],
   "source": [
    "nx.draw(g)\n",
    "plt.show()"
   ]
  },
  {
   "cell_type": "code",
   "execution_count": 47,
   "metadata": {
    "scrolled": true
   },
   "outputs": [
    {
     "data": {
      "text/plain": [
       "{'b_bv': 3,\n",
       " 'b_bw': 3,\n",
       " 'b_end_east': 1,\n",
       " 'b_end_west': 1,\n",
       " 'b_g': 4,\n",
       " 'b_gy2': 4,\n",
       " 'b_o': 4,\n",
       " 'b_rc': 4,\n",
       " 'b_rd': 4,\n",
       " 'b_rd_dupe': 2,\n",
       " 'b_rh': 4,\n",
       " 'b_rs': 4,\n",
       " 'b_rt': 4,\n",
       " 'b_tt_1': 4,\n",
       " 'b_tt_2': 4,\n",
       " 'b_tt_2_dupe': 2,\n",
       " 'b_tt_3': 3,\n",
       " 'b_tt_3_dupe': 2,\n",
       " 'b_v': 5,\n",
       " 'b_w': 4,\n",
       " 'b_y': 4,\n",
       " 'bstub_w': 2,\n",
       " 'g_gy1': 3,\n",
       " 'g_gy2': 3,\n",
       " 'g_rc': 4,\n",
       " 'g_rs': 4,\n",
       " 'g_rt': 4,\n",
       " 'g_w': 3,\n",
       " 'nature_end_west': 3,\n",
       " 'o_gy1': 4,\n",
       " 'o_gy2': 4,\n",
       " 'o_rc': 4,\n",
       " 'o_rh': 4,\n",
       " 'o_rs': 4,\n",
       " 'o_rt': 3,\n",
       " 'o_tt': 5,\n",
       " 'o_w_1': 5,\n",
       " 'o_w_2': 4,\n",
       " 'o_y_tt_end_west': 3,\n",
       " 'park_east': 4,\n",
       " 'rc_end_north': 1,\n",
       " 'rc_end_south': 1,\n",
       " 'rd_end_north': 1,\n",
       " 'rd_end_south': 3,\n",
       " 'rd_end_south_dupe': 2,\n",
       " 'rh_end_north': 1,\n",
       " 'rh_end_south': 1,\n",
       " 'rh_end_tt_1': 3,\n",
       " 'rh_end_tt_2': 3,\n",
       " 'rh_end_tt_3': 3,\n",
       " 'rh_end_tt_4': 3,\n",
       " 'rs_end_north': 1,\n",
       " 'rs_end_south': 1,\n",
       " 'rt_end_north': 1,\n",
       " 'rt_end_south': 1,\n",
       " 'tt_rt': 4,\n",
       " 'v_bv': 3,\n",
       " 'v_end_east': 1,\n",
       " 'v_end_west': 1,\n",
       " 'v_rc': 4,\n",
       " 'v_rd': 4,\n",
       " 'v_rh': 4,\n",
       " 'v_rs': 4,\n",
       " 'v_rt': 4,\n",
       " 'w_bw': 3,\n",
       " 'w_gy1': 4,\n",
       " 'w_gy2': 4,\n",
       " 'w_rc': 4,\n",
       " 'w_rs': 4,\n",
       " 'w_rt': 4,\n",
       " 'w_tt': 4,\n",
       " 'y_gy1': 3,\n",
       " 'y_gy2': 3,\n",
       " 'y_rc': 4,\n",
       " 'y_rh': 5,\n",
       " 'y_rs': 4,\n",
       " 'y_rt': 5}"
      ]
     },
     "execution_count": 47,
     "metadata": {},
     "output_type": "execute_result"
    }
   ],
   "source": [
    "nx.degree(g)"
   ]
  },
  {
   "cell_type": "code",
   "execution_count": 49,
   "metadata": {
    "scrolled": true
   },
   "outputs": [
    {
     "name": "stdout",
     "output_type": "stream",
     "text": [
      "w_bw\n",
      "y_rt\n",
      "g_w\n",
      "b_tt_2_dupe\n",
      "tt_rt\n",
      "g_rt\n",
      "b_rd\n",
      "o_w_1\n",
      "o_y_tt_end_west\n",
      "b_tt_2\n",
      "b_tt_3\n",
      "b_end_west\n",
      "v_rt\n",
      "rd_end_north\n",
      "y_rc\n",
      "y_gy1\n",
      "rs_end_south\n",
      "rh_end_tt_3\n",
      "b_rh\n",
      "rh_end_south\n",
      "w_gy1\n",
      "b_gy2\n",
      "rd_end_south_dupe\n",
      "bstub_w\n",
      "w_gy2\n",
      "o_tt\n",
      "b_end_east\n",
      "rc_end_south\n",
      "y_gy2\n",
      "w_rc\n",
      "w_rs\n",
      "rh_end_north\n",
      "o_gy2\n",
      "b_rt\n",
      "b_tt_1\n",
      "v_rc\n",
      "rh_end_tt_4\n",
      "g_gy1\n",
      "rc_end_north\n",
      "o_rh\n",
      "nature_end_west\n",
      "rh_end_tt_1\n",
      "g_rc\n",
      "o_rs\n",
      "b_bw\n",
      "b_rs\n",
      "o_rt\n",
      "w_rt\n",
      "v_end_west\n",
      "v_rh\n",
      "rt_end_north\n",
      "rh_end_tt_2\n",
      "b_v\n",
      "b_w\n",
      "v_rs\n",
      "b_tt_3_dupe\n",
      "b_bv\n",
      "b_y\n",
      "v_rd\n",
      "rd_end_south\n",
      "g_rs\n",
      "o_rc\n",
      "rt_end_south\n",
      "park_east\n",
      "g_gy2\n",
      "v_end_east\n",
      "b_o\n",
      "b_g\n",
      "rs_end_north\n",
      "b_rc\n",
      "y_rh\n",
      "y_rs\n",
      "b_rd_dupe\n",
      "w_tt\n",
      "o_gy1\n",
      "o_w_2\n",
      "v_bv\n"
     ]
    }
   ],
   "source": [
    "for n in nx.nodes(g):\n",
    "    print(n)"
   ]
  },
  {
   "cell_type": "code",
   "execution_count": 50,
   "metadata": {},
   "outputs": [
    {
     "data": {
      "text/plain": [
       "0.021018455228981544"
      ]
     },
     "execution_count": 50,
     "metadata": {},
     "output_type": "execute_result"
    }
   ],
   "source": [
    "nx.density(g)"
   ]
  },
  {
   "cell_type": "code",
   "execution_count": 51,
   "metadata": {},
   "outputs": [
    {
     "data": {
      "text/plain": [
       "'Name: \\nType: DiGraph\\nNumber of nodes: 77\\nNumber of edges: 123\\nAverage in degree:   1.5974\\nAverage out degree:   1.5974'"
      ]
     },
     "execution_count": 51,
     "metadata": {},
     "output_type": "execute_result"
    }
   ],
   "source": [
    "nx.info(g)"
   ]
  },
  {
   "cell_type": "code",
   "execution_count": 52,
   "metadata": {},
   "outputs": [
    {
     "data": {
      "text/plain": [
       "True"
      ]
     },
     "execution_count": 52,
     "metadata": {},
     "output_type": "execute_result"
    }
   ],
   "source": [
    "g.is_directed()"
   ]
  },
  {
   "cell_type": "code",
   "execution_count": 60,
   "metadata": {},
   "outputs": [
    {
     "data": {
      "text/plain": [
       "matrix([[ 0.  ,  0.  ,  0.09, ...,  0.  ,  0.  ,  0.  ],\n",
       "        [ 0.  ,  0.  ,  0.  , ...,  0.  ,  0.  ,  0.  ],\n",
       "        [ 0.  ,  0.  ,  0.  , ...,  0.  ,  0.  ,  0.  ],\n",
       "        ..., \n",
       "        [ 0.  ,  0.  ,  0.  , ...,  0.  ,  0.  ,  0.  ],\n",
       "        [ 0.  ,  0.  ,  0.  , ...,  0.  ,  0.  ,  0.  ],\n",
       "        [ 0.  ,  0.  ,  0.  , ...,  0.  ,  0.  ,  0.  ]])"
      ]
     },
     "execution_count": 60,
     "metadata": {},
     "output_type": "execute_result"
    }
   ],
   "source": [
    "import numpy as np\n",
    "\n",
    "nx.adjacency_matrix(g).todense()"
   ]
  },
  {
   "cell_type": "code",
   "execution_count": 61,
   "metadata": {},
   "outputs": [
    {
     "data": {
      "text/plain": [
       "matrix([[  9.99350649e-01,  -6.66700861e-04,  -4.37945003e-01, ...,\n",
       "          -6.51427564e-04,  -6.79504026e-04,  -6.60514092e-04],\n",
       "        [ -6.66700861e-04,   9.99350649e-01,  -6.56470120e-04, ...,\n",
       "          -6.56737862e-04,  -6.51078115e-04,  -6.50022729e-04],\n",
       "        [ -4.37945003e-01,  -6.56470120e-04,   9.99350649e-01, ...,\n",
       "          -6.49353107e-04,  -6.65254284e-04,  -6.52761599e-04],\n",
       "        ..., \n",
       "        [ -6.51427564e-04,  -6.56737862e-04,  -6.49353107e-04, ...,\n",
       "           9.99350649e-01,  -6.65654585e-04,  -6.52947412e-04],\n",
       "        [ -6.79504026e-04,  -6.51078115e-04,  -6.65254284e-04, ...,\n",
       "          -6.65654585e-04,   9.99350649e-01,  -6.53908961e-04],\n",
       "        [ -6.60514092e-04,  -6.50022729e-04,  -6.52761599e-04, ...,\n",
       "          -6.52947412e-04,  -6.53908961e-04,   9.99350649e-01]])"
      ]
     },
     "execution_count": 61,
     "metadata": {},
     "output_type": "execute_result"
    }
   ],
   "source": [
    "nx.directed_laplacian_matrix(g)"
   ]
  },
  {
   "cell_type": "code",
   "execution_count": null,
   "metadata": {
    "collapsed": true
   },
   "outputs": [],
   "source": []
  }
 ],
 "metadata": {
  "kernelspec": {
   "display_name": "Python 3",
   "language": "python",
   "name": "python3"
  },
  "language_info": {
   "codemirror_mode": {
    "name": "ipython",
    "version": 3
   },
   "file_extension": ".py",
   "mimetype": "text/x-python",
   "name": "python",
   "nbconvert_exporter": "python",
   "pygments_lexer": "ipython3",
   "version": "3.5.4"
  }
 },
 "nbformat": 4,
 "nbformat_minor": 2
}
