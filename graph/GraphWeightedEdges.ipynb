{
 "cells": [
  {
   "cell_type": "code",
   "execution_count": 25,
   "metadata": {
    "collapsed": true
   },
   "outputs": [],
   "source": [
    "import networkx as nx\n",
    "import pandas as pd\n",
    "import similarity as sm"
   ]
  },
  {
   "cell_type": "code",
   "execution_count": 29,
   "metadata": {},
   "outputs": [
    {
     "name": "stdout",
     "output_type": "stream",
     "text": [
      "titles ['Linear algebra', 'Geometry', 'Line (geometry)', 'Plane (geometry)', 'Rotation (mathematics)', 'Functional analysis', 'Engineering', 'Mathematical model', 'Nonlinear system', 'Matrix (mathematics)', 'Vector space', 'Linear map', 'Mathematics', 'Linear equation', 'Length', 'Area', 'Volume', 'Mathematical sciences', 'Axiomatic system', 'Euclid', \"Euclid's Elements\", 'Middle Ages', 'René Descartes', 'Pierre de Fermat', 'Non-Euclidean geometry', 'Topological manifold', 'Ancient Greek', 'Mathematics', 'List of geometers', 'Axiom', 'Primitive notion', 'Differential geometry', 'Geodesic', 'Projective geometry', 'Analytic geometry', 'Linear equation', 'Incidence geometry', 'Euclid', 'Axiom', 'Euclidean geometry', 'Non-Euclidean geometry', 'Projective geometry', 'Affine geometry', 'Curvature', 'Euclidean space', 'Geometry', 'Trigonometry', 'Graph theory', 'Graph of a function', 'Mathematics', 'Dimension', 'Surface (topology)', 'Two-dimensional space', 'Point (geometry)', 'Line (geometry)', 'Three-dimensional space', 'Euclidean geometry', 'Map (mathematics)', 'Group (mathematics)', 'Function composition', 'Mechanics', 'Physics', 'Coordinate system', 'Orthonormal basis', 'Frame of reference', 'Clockwise', 'Active and passive transformation', 'Mathematics', 'Geometry', 'Motion (geometry)', 'Space (mathematics)', 'Point (geometry)', 'Rigid body', 'Translation (geometry)', 'Reflection (mathematics)', 'Flat (geometry)', 'Dimension', 'Dimension (vector space)', 'Linear algebra', 'Measure (mathematics)', 'Integral', 'Probability', 'Functional (mathematics)', 'Calculus of variations', 'Higher-order function', 'Jacques Hadamard', 'Vito Volterra', 'Maurice René Fréchet', 'Paul Lévy (mathematician)', 'Frigyes Riesz', 'Lwów School of Mathematics', 'Poland', 'Stefan Banach', 'Mathematical analysis', 'Vector space', 'Inner product space', 'Norm (mathematics)', 'Topological space', 'Linear map', 'Function space', 'Fourier transform', 'Continuous function', 'Unitary operator', 'Differential equation', 'Integral equation', 'Latin', 'Science', 'Empirical evidence', 'Innovation', 'Design', 'Construction', 'Maintenance (technical)', 'Structure', 'Machine', 'Material', 'System', 'Process', 'Organization', 'List of engineering branches', 'Applied mathematics', 'Applied science', 'Glossary of engineering', 'System', 'Mathematics', 'Language of mathematics', 'Natural science', 'Physics', 'Biology', 'Earth science', 'Chemistry', 'Engineering', 'Computer science', 'Artificial intelligence', 'Social science', 'Economics', 'Psychology', 'Sociology', 'Political science', 'Physicist', 'Mathematician', 'Engineer', 'Statistician', 'Operations research', 'Economist', 'Wikipedia:Citation needed', 'Linearization', 'Soliton', 'Chaos theory', 'Singularity (mathematics)', 'Randomness', 'Equation', 'Differential equation', 'Polynomial', 'Function (mathematics)', 'Linear combination', 'Variable (mathematics)', 'Function (mathematics)', 'Mathematics', 'Outline of physical science', 'System', 'Proportionality (mathematics)', 'Engineer', 'Physicist', 'Mathematician', 'Scientist', 'Dynamical system', 'Linear system', 'Numerical analysis', 'Matrix (mathematics)', 'Sparse matrix', 'Diagonal matrix', 'Finite element method', 'Derivative', 'Taylor series', 'Physics', 'Classical mechanics', 'Optics', 'Electromagnetism', 'Quantum mechanics', 'Quantum electrodynamics', 'Rigid body dynamics', 'Computer graphics', '3D modeling', 'Glossary of computer graphics', 'Probability theory', 'Statistics', 'Stochastic matrix', 'PageRank', 'Matrix calculus', 'Mathematical analysis', 'Derivative', 'Exponential function', 'Economics', 'Matrix addition', 'Conformable matrix', 'Matrix multiplication', 'Matrix multiplication', 'Scalar (mathematics)', 'Field (mathematics)', 'Linear map', 'Linear function', 'Rotation (mathematics)', 'Euclidean vector', 'Dimension', 'Rotation matrix', 'Row and column vectors', 'Position (vector)', 'Transformation matrix', 'Function composition', 'Transformation (function)', 'System of linear equations', 'Determinant', 'Invertible matrix', 'If and only if', '0', 'Geometry', 'Eigenvalues and eigenvectors', 'Mathematics', 'Rectangle', 'Number', 'Symbol (formal)', 'Expression (mathematics)', 'Mathematics', 'Science', 'Engineering', 'System of linear equations', 'Fourier series', 'Image compression', 'Partial differential equation', 'Coordinate-free', 'Tensor', 'Manifold', 'Abstract algebra', 'Analytic geometry', 'Matrix (mathematics)', 'Linear equation', 'Giuseppe Peano', 'Euclidean space', 'Line (geometry)', 'Plane (geometry)', 'Linear algebra', 'Dimension (vector space)', 'Mathematical analysis', 'Function space', 'Function (mathematics)', 'Topology', 'Continuous function', 'Norm (mathematics)', 'Inner product space', 'Metric (mathematics)', 'Banach space', 'Hilbert space', 'Euclidean vector', 'Physics', 'Force', 'Force', 'Geometry', 'Three-dimensional space', 'Euclidean vector', 'Scalar multiplication', 'Scalar (mathematics)', 'Real number', 'Complex number', 'Rational number', 'Field (mathematics)', 'Axiom', 'Abstract algebra', 'Module homomorphism', 'Category theory', 'Morphism', 'Category of modules', 'Ring (mathematics)', 'Map (mathematics)', 'Origin (mathematics)', 'Plane (geometry)', 'Line (geometry)', 'Point (geometry)', 'Matrix (mathematics)', 'Transformation matrix', 'Endomorphism', 'Linear function', 'Analytic geometry', 'Mathematics', 'Transformation (function)', 'Map (mathematics)', 'Module (mathematics)', 'Vector space', 'Scalar (mathematics)', 'Real number', 'Complex number', 'Coefficient', 'Field (mathematics)', 'Mathematics', 'Applied mathematics', 'Nonlinear system', 'Algebraic equation', 'Term (logic)', 'Constant term', 'Variable (mathematics)', 'Number', 'Parameter', 'Function (mathematics)', 'Linear regression']\n",
      "length before 91809\n",
      "length after 45369\n"
     ]
    },
    {
     "name": "stderr",
     "output_type": "stream",
     "text": [
      "IOPub data rate exceeded.\n",
      "The notebook server will temporarily stop sending output\n",
      "to the client in order to avoid crashing it.\n",
      "To change this limit, set the config variable\n",
      "`--NotebookApp.iopub_data_rate_limit`.\n"
     ]
    }
   ],
   "source": [
    "G = nx.Graph()\n",
    "docs = sm.compute_similarity(\"../keywords/linalg_desclinks.json\")"
   ]
  },
  {
   "cell_type": "code",
   "execution_count": 4,
   "metadata": {},
   "outputs": [
    {
     "ename": "AttributeError",
     "evalue": "'list' object has no attribute 'get'",
     "output_type": "error",
     "traceback": [
      "\u001b[1;31m---------------------------------------------------------------------------\u001b[0m",
      "\u001b[1;31mAttributeError\u001b[0m                            Traceback (most recent call last)",
      "\u001b[1;32m<ipython-input-4-680ba6d3020c>\u001b[0m in \u001b[0;36m<module>\u001b[1;34m()\u001b[0m\n\u001b[0;32m      4\u001b[0m     \u001b[0mnodes_list\u001b[0m\u001b[1;33m.\u001b[0m\u001b[0mappend\u001b[0m\u001b[1;33m(\u001b[0m\u001b[0mi\u001b[0m\u001b[1;33m[\u001b[0m\u001b[1;36m0\u001b[0m\u001b[1;33m]\u001b[0m\u001b[1;33m)\u001b[0m\u001b[1;33m\u001b[0m\u001b[0m\n\u001b[0;32m      5\u001b[0m     \u001b[0mnodes_list\u001b[0m\u001b[1;33m.\u001b[0m\u001b[0mappend\u001b[0m\u001b[1;33m(\u001b[0m\u001b[0mi\u001b[0m\u001b[1;33m[\u001b[0m\u001b[1;36m1\u001b[0m\u001b[1;33m]\u001b[0m\u001b[1;33m)\u001b[0m\u001b[1;33m\u001b[0m\u001b[0m\n\u001b[1;32m----> 6\u001b[1;33m     \u001b[0medge\u001b[0m \u001b[1;33m=\u001b[0m \u001b[1;33m(\u001b[0m\u001b[0mi\u001b[0m\u001b[1;33m[\u001b[0m\u001b[1;36m0\u001b[0m\u001b[1;33m]\u001b[0m\u001b[1;33m,\u001b[0m \u001b[0mi\u001b[0m\u001b[1;33m[\u001b[0m\u001b[1;36m1\u001b[0m\u001b[1;33m]\u001b[0m\u001b[1;33m,\u001b[0m \u001b[1;33m{\u001b[0m\u001b[1;34m'similarity'\u001b[0m\u001b[1;33m:\u001b[0m \u001b[0mdocs\u001b[0m\u001b[1;33m.\u001b[0m\u001b[0mget\u001b[0m\u001b[1;33m(\u001b[0m\u001b[0mi\u001b[0m\u001b[1;33m)\u001b[0m\u001b[1;33m}\u001b[0m\u001b[1;33m)\u001b[0m\u001b[1;33m\u001b[0m\u001b[0m\n\u001b[0m\u001b[0;32m      7\u001b[0m     \u001b[0medges_list\u001b[0m\u001b[1;33m.\u001b[0m\u001b[0mappend\u001b[0m\u001b[1;33m(\u001b[0m\u001b[0medge\u001b[0m\u001b[1;33m)\u001b[0m\u001b[1;33m\u001b[0m\u001b[0m\n",
      "\u001b[1;31mAttributeError\u001b[0m: 'list' object has no attribute 'get'"
     ]
    }
   ],
   "source": [
    "edges_list = []\n",
    "nodes_list = []\n",
    "for i in docs:\n",
    "    nodes_list.append(i[0])\n",
    "    nodes_list.append(i[1])\n",
    "    edge = (i[0], i[1], {'similarity': docs.get(i)})\n",
    "    edges_list.append(edge)"
   ]
  },
  {
   "cell_type": "code",
   "execution_count": 30,
   "metadata": {
    "collapsed": true
   },
   "outputs": [],
   "source": [
    "G.add_edges_from(docs)"
   ]
  },
  {
   "cell_type": "code",
   "execution_count": 39,
   "metadata": {},
   "outputs": [
    {
     "ename": "KeyError",
     "evalue": "0",
     "output_type": "error",
     "traceback": [
      "\u001b[1;31m---------------------------------------------------------------------------\u001b[0m",
      "\u001b[1;31mKeyError\u001b[0m                                  Traceback (most recent call last)",
      "\u001b[1;32m<ipython-input-39-4e217c8f0df5>\u001b[0m in \u001b[0;36m<module>\u001b[1;34m()\u001b[0m\n\u001b[0;32m      1\u001b[0m \u001b[1;32mimport\u001b[0m \u001b[0mrandom\u001b[0m\u001b[1;33m\u001b[0m\u001b[0m\n\u001b[1;32m----> 2\u001b[1;33m \u001b[0mG\u001b[0m\u001b[1;33m.\u001b[0m\u001b[0mnodes\u001b[0m\u001b[1;33m[\u001b[0m\u001b[1;36m0\u001b[0m\u001b[1;33m]\u001b[0m\u001b[1;33m\u001b[0m\u001b[0m\n\u001b[0m",
      "\u001b[1;32mC:\\ProgramData\\Anaconda3\\lib\\site-packages\\networkx\\classes\\reportviews.py\u001b[0m in \u001b[0;36m__getitem__\u001b[1;34m(self, n)\u001b[0m\n\u001b[0;32m    176\u001b[0m \u001b[1;33m\u001b[0m\u001b[0m\n\u001b[0;32m    177\u001b[0m     \u001b[1;32mdef\u001b[0m \u001b[0m__getitem__\u001b[0m\u001b[1;33m(\u001b[0m\u001b[0mself\u001b[0m\u001b[1;33m,\u001b[0m \u001b[0mn\u001b[0m\u001b[1;33m)\u001b[0m\u001b[1;33m:\u001b[0m\u001b[1;33m\u001b[0m\u001b[0m\n\u001b[1;32m--> 178\u001b[1;33m         \u001b[1;32mreturn\u001b[0m \u001b[0mself\u001b[0m\u001b[1;33m.\u001b[0m\u001b[0m_nodes\u001b[0m\u001b[1;33m[\u001b[0m\u001b[0mn\u001b[0m\u001b[1;33m]\u001b[0m\u001b[1;33m\u001b[0m\u001b[0m\n\u001b[0m\u001b[0;32m    179\u001b[0m \u001b[1;33m\u001b[0m\u001b[0m\n\u001b[0;32m    180\u001b[0m     \u001b[1;31m# Set methods\u001b[0m\u001b[1;33m\u001b[0m\u001b[1;33m\u001b[0m\u001b[0m\n",
      "\u001b[1;31mKeyError\u001b[0m: 0"
     ]
    }
   ],
   "source": [
    "import random \n",
    "G.nodes[0]"
   ]
  }
 ],
 "metadata": {
  "kernelspec": {
   "display_name": "Python 3",
   "language": "python",
   "name": "python3"
  },
  "language_info": {
   "codemirror_mode": {
    "name": "ipython",
    "version": 3
   },
   "file_extension": ".py",
   "mimetype": "text/x-python",
   "name": "python",
   "nbconvert_exporter": "python",
   "pygments_lexer": "ipython3",
   "version": "3.6.1"
  }
 },
 "nbformat": 4,
 "nbformat_minor": 2
}
