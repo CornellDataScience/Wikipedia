{
 "cells": [
  {
   "cell_type": "code",
   "execution_count": 1,
   "metadata": {
    "collapsed": true
   },
   "outputs": [],
   "source": [
    "import networkx as nx\n",
    "import pandas as pd\n",
    "import similarity as sm"
   ]
  },
  {
   "cell_type": "code",
   "execution_count": 96,
   "metadata": {},
   "outputs": [
    {
     "name": "stdout",
     "output_type": "stream",
     "text": [
      "titles ['Linear algebra', 'Geometry', 'Line (geometry)', 'Plane (geometry)', 'Rotation (mathematics)', 'Functional analysis', 'Engineering', 'Mathematical model', 'Nonlinear system', 'Matrix (mathematics)', 'Vector space', 'Linear map', 'Mathematics', 'Linear equation', 'Length', 'Area', 'Volume', 'Mathematical sciences', 'Axiomatic system', 'Euclid', \"Euclid's Elements\", 'Middle Ages', 'René Descartes', 'Pierre de Fermat', 'Non-Euclidean geometry', 'Topological manifold', 'Ancient Greek', 'Mathematics', 'List of geometers', 'Axiom', 'Primitive notion', 'Differential geometry', 'Geodesic', 'Projective geometry', 'Analytic geometry', 'Linear equation', 'Incidence geometry', 'Euclid', 'Axiom', 'Euclidean geometry', 'Non-Euclidean geometry', 'Projective geometry', 'Affine geometry', 'Curvature', 'Euclidean space', 'Geometry', 'Trigonometry', 'Graph theory', 'Graph of a function', 'Mathematics', 'Dimension', 'Surface (topology)', 'Two-dimensional space', 'Point (geometry)', 'Line (geometry)', 'Three-dimensional space', 'Euclidean geometry', 'Map (mathematics)', 'Group (mathematics)', 'Function composition', 'Mechanics', 'Physics', 'Coordinate system', 'Orthonormal basis', 'Frame of reference', 'Clockwise', 'Active and passive transformation', 'Mathematics', 'Geometry', 'Motion (geometry)', 'Space (mathematics)', 'Point (geometry)', 'Rigid body', 'Translation (geometry)', 'Reflection (mathematics)', 'Flat (geometry)', 'Dimension', 'Dimension (vector space)', 'Linear algebra', 'Measure (mathematics)', 'Integral', 'Probability', 'Functional (mathematics)', 'Calculus of variations', 'Higher-order function', 'Jacques Hadamard', 'Vito Volterra', 'Maurice René Fréchet', 'Paul Lévy (mathematician)', 'Frigyes Riesz', 'Lwów School of Mathematics', 'Poland', 'Stefan Banach', 'Mathematical analysis', 'Vector space', 'Inner product space', 'Norm (mathematics)', 'Topological space', 'Linear map', 'Function space', 'Fourier transform', 'Continuous function', 'Unitary operator', 'Differential equation', 'Integral equation', 'Latin', 'Science', 'Empirical evidence', 'Innovation', 'Design', 'Construction', 'Maintenance (technical)', 'Structure', 'Machine', 'Material', 'System', 'Process', 'Organization', 'List of engineering branches', 'Applied mathematics', 'Applied science', 'Glossary of engineering', 'System', 'Mathematics', 'Language of mathematics', 'Natural science', 'Physics', 'Biology', 'Earth science', 'Chemistry', 'Engineering', 'Computer science', 'Artificial intelligence', 'Social science', 'Economics', 'Psychology', 'Sociology', 'Political science', 'Physicist', 'Mathematician', 'Engineer', 'Statistician', 'Operations research', 'Economist', 'Wikipedia:Citation needed', 'Linearization', 'Soliton', 'Chaos theory', 'Singularity (mathematics)', 'Randomness', 'Equation', 'Differential equation', 'Polynomial', 'Function (mathematics)', 'Linear combination', 'Variable (mathematics)', 'Function (mathematics)', 'Mathematics', 'Outline of physical science', 'System', 'Proportionality (mathematics)', 'Engineer', 'Physicist', 'Mathematician', 'Scientist', 'Dynamical system', 'Linear system', 'Numerical analysis', 'Matrix (mathematics)', 'Sparse matrix', 'Diagonal matrix', 'Finite element method', 'Derivative', 'Taylor series', 'Physics', 'Classical mechanics', 'Optics', 'Electromagnetism', 'Quantum mechanics', 'Quantum electrodynamics', 'Rigid body dynamics', 'Computer graphics', '3D modeling', 'Glossary of computer graphics', 'Probability theory', 'Statistics', 'Stochastic matrix', 'PageRank', 'Matrix calculus', 'Mathematical analysis', 'Derivative', 'Exponential function', 'Economics', 'Matrix addition', 'Conformable matrix', 'Matrix multiplication', 'Matrix multiplication', 'Scalar (mathematics)', 'Field (mathematics)', 'Linear map', 'Linear function', 'Rotation (mathematics)', 'Euclidean vector', 'Dimension', 'Rotation matrix', 'Row and column vectors', 'Position (vector)', 'Transformation matrix', 'Function composition', 'Transformation (function)', 'System of linear equations', 'Determinant', 'Invertible matrix', 'If and only if', '0', 'Geometry', 'Eigenvalues and eigenvectors', 'Mathematics', 'Rectangle', 'Number', 'Symbol (formal)', 'Expression (mathematics)', 'Mathematics', 'Science', 'Engineering', 'System of linear equations', 'Fourier series', 'Image compression', 'Partial differential equation', 'Coordinate-free', 'Tensor', 'Manifold', 'Abstract algebra', 'Analytic geometry', 'Matrix (mathematics)', 'Linear equation', 'Giuseppe Peano', 'Euclidean space', 'Line (geometry)', 'Plane (geometry)', 'Linear algebra', 'Dimension (vector space)', 'Mathematical analysis', 'Function space', 'Function (mathematics)', 'Topology', 'Continuous function', 'Norm (mathematics)', 'Inner product space', 'Metric (mathematics)', 'Banach space', 'Hilbert space', 'Euclidean vector', 'Physics', 'Force', 'Force', 'Geometry', 'Three-dimensional space', 'Euclidean vector', 'Scalar multiplication', 'Scalar (mathematics)', 'Real number', 'Complex number', 'Rational number', 'Field (mathematics)', 'Axiom', 'Abstract algebra', 'Module homomorphism', 'Category theory', 'Morphism', 'Category of modules', 'Ring (mathematics)', 'Map (mathematics)', 'Origin (mathematics)', 'Plane (geometry)', 'Line (geometry)', 'Point (geometry)', 'Matrix (mathematics)', 'Transformation matrix', 'Endomorphism', 'Linear function', 'Analytic geometry', 'Mathematics', 'Transformation (function)', 'Map (mathematics)', 'Module (mathematics)', 'Vector space', 'Scalar (mathematics)', 'Real number', 'Complex number', 'Coefficient', 'Field (mathematics)', 'Mathematics', 'Applied mathematics', 'Nonlinear system', 'Algebraic equation', 'Term (logic)', 'Constant term', 'Variable (mathematics)', 'Number', 'Parameter', 'Function (mathematics)', 'Linear regression']\n",
      "length before 91809\n",
      "length after 45369"
     ]
    },
    {
     "name": "stderr",
     "output_type": "stream",
     "text": [
      "IOPub data rate exceeded.\n",
      "The notebook server will temporarily stop sending output\n",
      "to the client in order to avoid crashing it.\n",
      "To change this limit, set the config variable\n",
      "`--NotebookApp.iopub_data_rate_limit`.\n"
     ]
    }
   ],
   "source": [
    "G = nx.Graph()\n",
    "docs = sm.compute_similarity(\"../keywords/linalg_desclinks.json\")"
   ]
  },
  {
   "cell_type": "code",
   "execution_count": 91,
   "metadata": {},
   "outputs": [
    {
     "name": "stdout",
     "output_type": "stream",
     "text": [
      "origin unique: 213\n",
      "out unique: 213\n",
      "total number of nodes: 136107\n"
     ]
    }
   ],
   "source": [
    "df = pd.DataFrame(docs, )\n",
    "df.columns = [\"origin\", \"outgoing\", \"sim\"]\n",
    "print(\"origin unique: \"+ str(df['origin'].nunique()))\n",
    "print(\"out unique: \"+ str(df['outgoing'].nunique()))"
   ]
  },
  {
   "cell_type": "code",
   "execution_count": 19,
   "metadata": {
    "collapsed": true
   },
   "outputs": [],
   "source": [
    "G.add_edges_from(docs)"
   ]
  },
  {
   "cell_type": "code",
   "execution_count": 66,
   "metadata": {},
   "outputs": [],
   "source": [
    "pr = nx.pagerank(G)"
   ]
  },
  {
   "cell_type": "code",
   "execution_count": 45,
   "metadata": {},
   "outputs": [],
   "source": [
    "nx.set_node_attributes(G, pr,\"pagerank\")"
   ]
  },
  {
   "cell_type": "code",
   "execution_count": 94,
   "metadata": {},
   "outputs": [
    {
     "data": {
      "text/plain": [
       "22791"
      ]
     },
     "execution_count": 94,
     "metadata": {},
     "output_type": "execute_result"
    }
   ],
   "source": [
    "G.size()"
   ]
  }
 ],
 "metadata": {
  "kernelspec": {
   "display_name": "Python 3",
   "language": "python",
   "name": "python3"
  },
  "language_info": {
   "codemirror_mode": {
    "name": "ipython",
    "version": 3
   },
   "file_extension": ".py",
   "mimetype": "text/x-python",
   "name": "python",
   "nbconvert_exporter": "python",
   "pygments_lexer": "ipython3",
   "version": "3.6.1"
  }
 },
 "nbformat": 4,
 "nbformat_minor": 2
}
