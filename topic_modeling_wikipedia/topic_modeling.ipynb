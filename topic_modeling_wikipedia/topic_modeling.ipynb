{
 "cells": [
  {
   "cell_type": "code",
   "execution_count": 36,
   "metadata": {},
   "outputs": [
    {
     "name": "stdout",
     "output_type": "stream",
     "text": [
      "611\n",
      "611\n"
     ]
    }
   ],
   "source": [
    "# Splitting text data and storing them in a list (of articles)\n",
    "import io\n",
    "docs = io.open(\"raw_data.txt\", mode=\"r\", encoding=\"utf-8\", errors=\"ignore\").read().split('\\n') # list of strings \n",
    "titles_raw = [docs[i] for i in range(len(docs)) if i % 2 == 0] # list of string titles\n",
    "contents_raw = [docs[i] for i in range(len(docs)) if i % 2 == 1] # list of string contents\n",
    "titles = []\n",
    "contents = []\n",
    "for i in range(len(titles_raw)):\n",
    "    if contents_raw[i] != '':\n",
    "        titles.append(titles_raw[i])\n",
    "        contents.append(contents_raw[i])\n",
    "titles = list(set(titles))\n",
    "contents = list(set(contents))\n",
    "\n",
    "print(len(titles))\n",
    "print(len(contents))\n"
   ]
  },
  {
   "cell_type": "code",
   "execution_count": 37,
   "metadata": {},
   "outputs": [
    {
     "name": "stdout",
     "output_type": "stream",
     "text": [
      "611\n"
     ]
    }
   ],
   "source": [
    "# Preprocessing/ cleaning the data\n",
    "import re\n",
    "from nltk.corpus import stopwords \n",
    "from nltk.stem.wordnet import WordNetLemmatizer\n",
    "from nltk import word_tokenize\n",
    "\n",
    "# remove text between parenthesis\n",
    "# contents = list(map(lambda x: re.sub(r\"\\(.*\\)\",\"\",x), contents))\n",
    "\n",
    "# remove all digits from text\n",
    "contents = list(map(lambda x: re.sub(r\"\\d+\",\"\",x), contents))\n",
    "\n",
    "stop = set(stopwords.words('english')) # set of stopwords\n",
    "lemma = WordNetLemmatizer()\n",
    "def clean(doc):\n",
    "    # remove stopwords and words that are too short\n",
    "    return [lemma.lemmatize(i, 'v') for i in word_tokenize(doc) if i not in stop and len(i) > 2]\n",
    "cleaned = [clean(page.lower()) for page in contents]\n",
    "\n",
    "print(len(cleaned))"
   ]
  },
  {
   "cell_type": "code",
   "execution_count": 38,
   "metadata": {},
   "outputs": [
    {
     "name": "stdout",
     "output_type": "stream",
     "text": [
      "Dictionary(25740 unique tokens: ['.another', 'abstraction', 'act', 'adapt', 'algebraic']...)\n",
      "Dictionary(5934 unique tokens: ['.another', 'abstraction', 'act', 'adapt', 'algebraic']...)\n",
      "Dictionary(5896 unique tokens: ['.another', 'abstraction', 'act', 'adapt', 'algebraic']...)\n",
      "Dictionary(5846 unique tokens: ['.another', 'abstraction', 'act', 'adapt', 'algebraic']...)\n"
     ]
    }
   ],
   "source": [
    "import numpy as np\n",
    "# Building word dicitonary\n",
    "from gensim import corpora\n",
    "# create the term dictionary of our corpus; terms are unique; each term is assigned an index\n",
    "dictionary = corpora.Dictionary(cleaned)\n",
    "print(dictionary)\n",
    "dictionary.filter_extremes(no_below=3, no_above=0.7)\n",
    "print(dictionary)\n",
    "#filtering for words that are semantically related within the dictionary \n",
    "stoplist = set('also use make people know many call include part find become like mean often different usually take wikt come give well get since type list say change see refer actually iii aisne kinds pas ask would way something need things want every str'.split())\n",
    "stop_ids = [dictionary.token2id[stopword] for stopword in stoplist if stopword in dictionary.token2id]\n",
    "dictionary.filter_tokens(stop_ids)\n",
    "print(dictionary)\n",
    "dictionary.filter_n_most_frequent(50)\n",
    "print(dictionary)\n",
    "\n",
    "# This saves the dictionary to the local disk\n",
    "dictionary.save_as_text('./dictionary.txt')\n"
   ]
  },
  {
   "cell_type": "code",
   "execution_count": 39,
   "metadata": {},
   "outputs": [
    {
     "name": "stdout",
     "output_type": "stream",
     "text": [
      "611\n",
      "738\n",
      "[(4, 3), (9, 1), (10, 1), (14, 1), (15, 5), (20, 1), (38, 1), (39, 1), (50, 1), (60, 1), (63, 1), (69, 1), (75, 1), (85, 1), (93, 1), (98, 4), (103, 1), (109, 1), (174, 1), (196, 1), (202, 2), (217, 4), (226, 22), (252, 8), (253, 1), (290, 9), (320, 1), (331, 1), (348, 4), (349, 1), (426, 5), (427, 1), (471, 1), (483, 1), (517, 1), (527, 1), (528, 1), (533, 1), (537, 2), (557, 2), (562, 1), (564, 7), (592, 1), (613, 1), (625, 2), (627, 1), (641, 1), (655, 1), (679, 1), (681, 1), (689, 1), (699, 1), (703, 1), (745, 1), (750, 1), (751, 1), (757, 1), (769, 1), (788, 1), (813, 1), (832, 6), (890, 2), (900, 1), (940, 1), (1001, 1), (1010, 1), (1024, 3), (1031, 1), (1059, 1), (1096, 1), (1106, 1), (1119, 1), (1141, 3), (1150, 1), (1188, 1), (1202, 1), (1271, 2), (1276, 1), (1292, 1), (1328, 6), (1347, 3), (1386, 1), (1405, 2), (1430, 2), (1498, 1), (1532, 1), (1561, 1), (1572, 1), (1577, 1), (1599, 1), (1612, 2), (1625, 2), (1770, 1), (2091, 1), (2092, 1), (2097, 1), (2103, 3), (2178, 1), (2179, 1), (2180, 3), (2181, 2), (2182, 6), (2183, 32), (2184, 1), (2185, 2), (2186, 1), (2187, 2), (2188, 1), (2189, 1), (2190, 2), (2191, 1), (2192, 1), (2193, 2), (2194, 1), (2195, 1), (2196, 2), (2197, 2), (2198, 3), (2199, 1), (2200, 1), (2201, 1), (2202, 1), (2203, 1), (2204, 1), (2205, 1), (2206, 1)]\n"
     ]
    }
   ],
   "source": [
    "# Creating document-term matrix from vocabulary (dictionary)\n",
    "doc_term_matrix = [dictionary.doc2bow(doc) for doc in cleaned]\n",
    "print(len(doc_term_matrix))\n",
    "print(len(doc_term_matrix[1]))\n",
    "print(doc_term_matrix[11])"
   ]
  },
  {
   "cell_type": "code",
   "execution_count": 40,
   "metadata": {},
   "outputs": [],
   "source": [
    "# import numpy as np\n",
    "# M = np.array([[0 for i in range(len(dictionary))] for i in range(len(dictionary))])\n",
    "# for i in range (len(doc_term_matrix)):\n",
    "#     for j in range (len(doc_term_matrix[i])):\n",
    "#         for k in range(j+1, len(doc_term_matrix[i])):\n",
    "#             M[doc_term_matrix[i][j][0]][doc_term_matrix[i][k][0]] +=1\n",
    "#             M[doc_term_matrix[i][k][0]][doc_term_matrix[i][j][0]] +=1\n",
    "#         freqMax = max(M[j])\n",
    "#         M[j] = M[j] / freqMax\n",
    "        \n",
    "# #         M[j] = [x / freqMax for x in M[j]]\n",
    "\n",
    "# for j in range(len(M)):\n",
    "#     minM = min(M[j])\n",
    "#     maxM = max(M[j])\n",
    "#     R = minM/maxM\n",
    "#     rel = R/(1+R)\n",
    "#     for k in range(len(M[j])):\n",
    "#         M[j][k] = rel\n",
    "# M\n"
   ]
  },
  {
   "cell_type": "code",
   "execution_count": 41,
   "metadata": {},
   "outputs": [
    {
     "name": "stdout",
     "output_type": "stream",
     "text": [
      "1   0.006*\"coordinate\" + 0.005*\"transformation\" + 0.005*\"geometry\" + 0.005*\"quantum\" + 0.005*\"ring\" + 0.005*\"affine\" + 0.004*\"matrices\" + 0.004*\"line\" + 0.004*\"state\" + 0.004*\"euclidean\" \n",
      "\n",
      "2   0.007*\"coordinate\" + 0.006*\"matrices\" + 0.005*\"map\" + 0.005*\"polynomial\" + 0.005*\"manifold\" + 0.005*\"vectors\" + 0.005*\"row\" + 0.005*\"group\" + 0.004*\"definition\" + 0.003*\"finite\" \n",
      "\n",
      "3   0.009*\"vectors\" + 0.005*\"matrices\" + 0.005*\"row\" + 0.005*\"group\" + 0.005*\"geometry\" + 0.005*\"line\" + 0.004*\"column\" + 0.004*\"multiplication\" + 0.003*\"solution\" + 0.003*\"methods\" \n",
      "\n",
      "4   0.005*\"matrices\" + 0.005*\"group\" + 0.004*\"map\" + 0.004*\"polynomial\" + 0.004*\"sequence\" + 0.003*\"three\" + 0.003*\"methods\" + 0.003*\"sum\" + 0.003*\"vectors\" + 0.003*\"multiplication\" \n",
      "\n",
      "5   0.014*\"group\" + 0.006*\"ring\" + 0.006*\"matrices\" + 0.006*\"rank\" + 0.006*\"sum\" + 0.005*\"elements\" + 0.004*\"element\" + 0.004*\"direct\" + 0.004*\"model\" + 0.004*\"abelian\" \n",
      "\n",
      "6   0.006*\"coordinate\" + 0.005*\"vectors\" + 0.005*\"leibniz\" + 0.004*\"matrices\" + 0.004*\"polynomial\" + 0.003*\"elements\" + 0.003*\"tensor\" + 0.003*\"sum\" + 0.003*\"row\" + 0.003*\"data\" \n",
      "\n",
      "7   0.007*\"coordinate\" + 0.007*\"line\" + 0.006*\"ring\" + 0.005*\"polynomial\" + 0.004*\"model\" + 0.004*\"algorithm\" + 0.004*\"matrices\" + 0.004*\"describe\" + 0.004*\"difference\" + 0.004*\"zero\" \n",
      "\n",
      "8   0.007*\"methods\" + 0.006*\"model\" + 0.005*\"ring\" + 0.004*\"generate\" + 0.004*\"quantum\" + 0.004*\"polynomial\" + 0.004*\"group\" + 0.004*\"finitely\" + 0.004*\"problems\" + 0.003*\"determinant\" \n",
      "\n",
      "9   0.012*\"group\" + 0.008*\"line\" + 0.008*\"ring\" + 0.007*\"polynomial\" + 0.005*\"projective\" + 0.005*\"map\" + 0.004*\"plane\" + 0.004*\"study\" + 0.004*\"dual\" + 0.004*\"zero\" \n",
      "\n",
      "10   0.006*\"vectors\" + 0.006*\"line\" + 0.004*\"coordinate\" + 0.004*\"geometry\" + 0.004*\"map\" + 0.004*\"euclidean\" + 0.004*\"group\" + 0.004*\"mathematical\" + 0.004*\"matrices\" + 0.004*\"model\" \n",
      "\n",
      "11   0.008*\"vectors\" + 0.006*\"coordinate\" + 0.006*\"line\" + 0.005*\"orthogonal\" + 0.005*\"describe\" + 0.004*\"rotation\" + 0.004*\"span\" + 0.003*\"work\" + 0.003*\"three\" + 0.003*\"numerical\" \n",
      "\n",
      "12   0.007*\"vectors\" + 0.005*\"group\" + 0.004*\"determinant\" + 0.004*\"significant\" + 0.004*\"figure\" + 0.004*\"finite\" + 0.003*\"matrices\" + 0.003*\"element\" + 0.003*\"methods\" + 0.003*\"coordinate\" \n",
      "\n",
      "13   0.007*\"coordinate\" + 0.006*\"sequence\" + 0.006*\"row\" + 0.005*\"polynomial\" + 0.005*\"matrices\" + 0.005*\"ring\" + 0.005*\"zero\" + 0.004*\"finite\" + 0.004*\"map\" + 0.004*\"transform\" \n",
      "\n",
      "14   0.006*\"group\" + 0.006*\"ring\" + 0.005*\"transformation\" + 0.005*\"vectors\" + 0.005*\"sequence\" + 0.005*\"matrices\" + 0.004*\"polynomial\" + 0.004*\"plane\" + 0.004*\"solution\" + 0.004*\"projection\" \n",
      "\n",
      "15   0.008*\"map\" + 0.006*\"group\" + 0.005*\"ring\" + 0.005*\"model\" + 0.005*\"matrices\" + 0.004*\"coordinate\" + 0.004*\"sum\" + 0.004*\"elements\" + 0.004*\"orthogonal\" + 0.004*\"finite\" \n",
      "\n"
     ]
    }
   ],
   "source": [
    "# Training LDA model\n",
    "# LDA automatically finds the mixture of similar words together, thus forming the topic or theme. we use this \n",
    "# unsupervised learning technique to identify the categories to which these articles belong, and the groups/clusters\n",
    "# within the collection. \n",
    "\n",
    "from gensim.models.ldamodel import LdaModel as Lda\n",
    "\n",
    "ldamodel = Lda(doc_term_matrix, num_topics=15, id2word = dictionary)\n",
    "\n",
    "# Showing the 15 identified topics after the model is trained, where top 10 key terms are listed for each topic\n",
    "for topic in ldamodel.print_topics(num_topics=15, num_words=10):\n",
    "    print(topic[0]+1, \" \", topic[1],\"\\n\")"
   ]
  },
  {
   "cell_type": "code",
   "execution_count": 42,
   "metadata": {},
   "outputs": [
    {
     "name": "stdout",
     "output_type": "stream",
     "text": [
      "Articles(ID) in Cluster 1: 49, 87, 115, 137, 172, 177, 193, 209, 237, 291, 372, 400, 422, 441, 478, 499, 522, 534, 549, 588, 589, 594\n",
      "\n",
      "Articles(ID) in Cluster 2: 28, 43, 45, 51, 57, 103, 148, 157, 207, 215, 226, 240, 250, 255, 256, 257, 285, 290, 295, 318, 331, 347, 361, 368, 373, 379, 383, 394, 399, 401, 406, 410, 426, 435, 437, 459, 469, 471, 473, 479, 493, 497, 504, 514, 529, 538, 548, 552, 554, 556, 564, 606\n",
      "\n",
      "Articles(ID) in Cluster 3: 1, 21, 23, 56, 58, 106, 111, 112, 118, 122, 130, 133, 135, 140, 165, 166, 178, 180, 201, 228, 232, 235, 260, 277, 279, 280, 283, 299, 308, 310, 311, 322, 323, 351, 364, 403, 409, 415, 419, 464, 483, 487, 511, 526, 557, 571, 580, 591, 593\n",
      "\n",
      "Articles(ID) in Cluster 4: 13, 42, 46, 53, 74, 80, 102, 174, 175, 328, 359, 396, 414, 429, 485, 486, 517, 535, 568, 596, 607, 609\n",
      "\n",
      "Articles(ID) in Cluster 5: 25, 68, 93, 99, 119, 121, 124, 158, 191, 194, 208, 267, 272, 286, 302, 317, 327, 365, 423, 440, 443, 451, 453, 492, 498, 505, 563, 583\n",
      "\n",
      "Articles(ID) in Cluster 6: 16, 18, 26, 66, 76, 89, 98, 128, 143, 156, 173, 187, 190, 197, 203, 223, 230, 269, 274, 338, 342, 354, 360, 369, 424, 430, 444, 481, 502, 507, 544, 582, 587\n",
      "\n",
      "Articles(ID) in Cluster 7: 0, 22, 29, 35, 37, 94, 131, 141, 154, 161, 185, 218, 229, 251, 266, 273, 289, 297, 309, 324, 341, 345, 352, 382, 413, 416, 428, 467, 468, 472, 513, 521, 537, 542, 574, 595\n",
      "\n",
      "Articles(ID) in Cluster 8: 17, 27, 60, 71, 91, 97, 104, 108, 114, 155, 170, 189, 196, 198, 202, 205, 217, 219, 231, 236, 238, 241, 244, 253, 258, 276, 294, 307, 319, 320, 329, 344, 349, 377, 384, 397, 404, 407, 408, 421, 438, 458, 482, 506, 516, 530, 539, 541, 576, 581, 586, 592, 598\n",
      "\n",
      "Articles(ID) in Cluster 9: 2, 4, 14, 24, 34, 48, 64, 72, 83, 84, 86, 88, 92, 95, 116, 127, 142, 145, 186, 188, 204, 211, 216, 287, 301, 315, 321, 337, 357, 358, 374, 375, 387, 392, 402, 420, 442, 445, 456, 461, 508, 515, 523, 553, 560, 578, 608\n",
      "\n",
      "Articles(ID) in Cluster 10: 8, 39, 40, 41, 52, 59, 105, 117, 120, 134, 171, 206, 224, 227, 248, 261, 303, 325, 332, 339, 371, 395, 398, 417, 432, 433, 434, 463, 466, 480, 501, 509, 527\n",
      "\n",
      "Articles(ID) in Cluster 11: 3, 10, 32, 62, 70, 79, 126, 139, 146, 183, 195, 200, 225, 247, 281, 288, 298, 304, 306, 336, 350, 355, 356, 388, 391, 425, 436, 452, 455, 494, 520, 525, 547, 551, 569, 610\n",
      "\n",
      "Articles(ID) in Cluster 12: 5, 7, 20, 101, 136, 144, 150, 151, 162, 176, 179, 220, 222, 233, 239, 249, 270, 292, 316, 363, 380, 386, 389, 393, 405, 431, 439, 448, 490, 500, 510, 545, 570, 579\n",
      "\n",
      "Articles(ID) in Cluster 13: 15, 19, 30, 33, 36, 44, 63, 73, 78, 81, 85, 125, 160, 163, 164, 182, 184, 221, 234, 242, 245, 252, 259, 282, 293, 312, 314, 326, 340, 346, 385, 390, 411, 412, 449, 457, 474, 475, 484, 488, 491, 512, 518, 519, 532, 543, 550, 558, 561, 566, 575, 584, 600, 603, 604, 605\n",
      "\n",
      "Articles(ID) in Cluster 14: 6, 12, 31, 38, 54, 55, 67, 77, 82, 90, 107, 109, 110, 113, 123, 129, 147, 153, 159, 167, 199, 210, 212, 254, 263, 265, 296, 300, 343, 362, 366, 370, 376, 381, 418, 427, 447, 454, 462, 476, 477, 489, 496, 503, 528, 536, 540, 567, 572, 573, 599, 601, 602\n",
      "\n",
      "Articles(ID) in Cluster 15: 9, 11, 47, 50, 61, 65, 69, 75, 96, 100, 132, 138, 149, 152, 168, 169, 181, 192, 213, 214, 243, 246, 262, 264, 268, 271, 275, 278, 284, 305, 330, 333, 334, 335, 353, 367, 378, 446, 450, 460, 465, 470, 495, 524, 531, 533, 546, 555, 559, 562, 565, 577, 585, 590, 597\n",
      "\n"
     ]
    }
   ],
   "source": [
    "# Clustering documents based on topics extracted from LDA model \n",
    "from operator import itemgetter\n",
    "def cluster(doc_term_matrix, num):\n",
    "    doc_topics = ldamodel.get_document_topics(doc_term_matrix, minimum_probability=0.20)\n",
    "    result = [[] for i in range(num)]\n",
    "    for k,topic in enumerate(doc_topics):\n",
    "        # Some articles do not have a topic\n",
    "        if topic:\n",
    "            topic.sort(key = itemgetter(1), reverse=True)\n",
    "            result[topic[0][0]].append(k)\n",
    "    for k in range(len(result)):\n",
    "        print('Articles(ID) in Cluster ' + str(k+1) + ': ' + ', '.join(map(str, result[k])))\n",
    "        print()\n",
    "    return result\n",
    "cluster_result = cluster(doc_term_matrix, 15)"
   ]
  },
  {
   "cell_type": "code",
   "execution_count": 43,
   "metadata": {},
   "outputs": [
    {
     "name": "stdout",
     "output_type": "stream",
     "text": [
      "Articles in Cluster 1: Commutation matrix, Rota's basis conjecture, Significant figures, Polynomial basis, Overcompleteness, Frobenius normal form, Eigenvalue perturbation, Geometry, Savitzky–Golay filter, Transpose, Sublinear function, Matrix Chernoff bound, A Treatise on Electricity and Magnetism, The Nine Chapters on the Mathematical Art, Orthonormal basis, Bijection, Quaternionic matrix, Series acceleration, Numerical analysis, Indeterminate system, Orthogonal transformation, 3D projection\n",
      "\n",
      "Articles in Cluster 2: Corank, Faddeev–LeVerrier algorithm, Function (mathematics), Unit vector, Plane (geometry), Low-discrepancy sequence, Orthogonal basis, Algorithm, Approximation, Spectral method, Hermes Project, Computing the permanent, Uzawa iteration, Manifold, Adjoint state method, Rate of convergence, Hypot, Dual norm, Hyperplane, Abelian group, Choi's theorem on completely positive maps, Modulus of smoothness, Difference quotient, Guard digit, Element (mathematics), Sylvester's determinant identity, Orthogonalization, Multigrid method, List of linear algebra topics, Multilinear form, Fast multipole method, Convex cone, Scale co-occurrence matrix, Seven-dimensional cross product, Defective matrix, Identifiability analysis, Dieudonné determinant, Sesquilinear form, Minimum polynomial extrapolation, Eigenoperator, James Joseph Sylvester, Quantification of margins and uncertainties, Cauchy–Schwarz inequality, Fundamental matrix (computer vision), Blossom (functional), Discretization error, k-frame, Real number, Nonlinear eigenproblem, Dual number, Sigma approximation, Orthogonality\n",
      "\n",
      "Articles in Cluster 3: Error analysis (mathematics), Linear equation over a ring, Sequence, Peetre's inequality, Approximation error, Generator (mathematics), Curve fitting, Triangle inequality, Karlsruhe Accurate Arithmetic, Overlap–add method, Lady Windermere's Fan (mathematics), Cyclic subspace, Spinors in three dimensions, Binary operation, Rayleigh quotient, Stabilizer code, Interval arithmetic, Line (geometry), Overdetermined system, Pairwise summation, Portal:Linear algebra, Richardson extrapolation, Matrix multiplication, Quadruple product, Ross–Fahroo lemma, System of linear equations, Asymmetric norm, Invertible matrix, Tikhonov regularization, Mathematics, Field (mathematics), Purification of quantum state, Dependence relation, Gabriel Cramer, Tensor product, Translation, Set (mathematics), Symbolic-numeric computation, Transpose of a linear map, Dot product, Computational science, Riemann solver, General linear group, Bernstein polynomial, Intersection (Euclidean geometry), Restricted isometry property, Rotation, Semi-simple operator, Curse of dimensionality\n",
      "\n",
      "Articles in Cluster 4: Square-free polynomial, FEE method, Model order reduction, Row echelon form, Sedrakyan's inequality, Zero of a function, Giuseppe Peano, Change of basis, Eigenvalues and eigenvectors, Digital Library of Mathematical Functions, Proper generalized decomposition, Affine space, James H. Wilkinson, Monic polynomial, Self-adjoint, Adjugate matrix, Coates graph, Computational complexity, Interval propagation, Signal-flow graph, Basis (linear algebra), Cokernel\n",
      "\n",
      "Articles in Cluster 5: Wild problem, Trilinear coordinates, Padé approximant, Linear independence, Horner's method, Möbius transformation, Ross–Fahroo pseudospectral method, Multi-time-step integration, Coordinate vector, Woodbury matrix identity, Estrin's scheme, Compressed sensing, Bendixson's inequality, Bilinear form, Meshfree methods, Regularized least squares, Steinitz exchange lemma, Delta operator, Gershgorin circle theorem, Spectral theory, Explicit algebraic stress model, Multilevel fast multipole method, Levi-Civita symbol, Ring (mathematics), CORDIC, Projection (mathematics), Sparse grid, Cache (computing)\n",
      "\n",
      "Articles in Cluster 6: Schur complement, Orthogonal complement, Linear function, Chebyshev pseudospectral method, Normal matrix, Affine arithmetic, Equioscillation theorem, 2 × 2 real matrices, Modeshape, Linear regression, Amitsur–Levitzki theorem, Numerical continuation, Rotation of axes, Discrete wavelet transform, Geometric transformation, Artificial precision, Zech's logarithm, Relative dimension, Dimension theorem for vector spaces, Normal basis, Backus–Gilbert method, Conjugate transpose, Generalizations of Pauli matrices, Semi-simplicity, Peano kernel theorem, Orthonormal function system, Computer graphics, Hundred-dollar, Hundred-digit Challenge problems, Sherman–Morrison formula, List of finite element software packages, Weyr canonical form, Well-posed problem, List of vector spaces in mathematics\n",
      "\n",
      "Articles in Cluster 7: Squeeze mapping, Euclidean vector, Dual basis, Book:Linear algebra, Module homomorphism, Controlled invariant subspace, Matrix congruence, Loewner order, Chebyshev nodes, Reduction (mathematics), Graphics processing unit, Discretization, Atmosphere, Bi-directional delay line, Category of modules, Spectral theorem, Integer points in convex polyhedra, Lapped transform, Map (mathematics), Abstract algebra, Generalized Gauss–Newton method, Determinant, CSS code, Finite field, Orthographic projection, Underdetermined system, Field extension, Analytic geometry, Coordinate system, Linear complementarity problem, Projective space, Numerical linear algebra, Zero object (algebra), Joint spectral radius, Numerical model of the Solar System, Nyström method\n",
      "\n",
      "Articles in Cluster 8: Rayleigh's quotient in vibrations analysis, Bra–ket notation, Newton's identities, Vector space, Direct sum of modules, Movable cellular automaton, Zassenhaus algorithm, Linearity, Basic Linear Algebra Subprograms, Immanant, Mathematical model, Generalized-strain mesh-free formulation, Vector-valued function, Three-dimensional rotation operator, Abramowitz and Stegun, S-procedure, Local convergence, Lp space, Samuelson–Berkowitz algorithm, Antilinear map, Symplectic vector space, History of Lorentz transformations, Newton–Krylov method, Range (mathematics), Linear programming, Stechkin's lemma, Entanglement-assisted stabilizer formalism, Nonnegative rank (linear algebra), Identity matrix, Linear approximation, Processor (computing), Linear equation, Antiunitary operator, Liouville space, Canonical basis, Polynomial, Nonlinear system, Linear combination, Matrix norm, Mathematical analysis, Round-off error, Projection-valued measure, Scalar multiplication, Norm (mathematics), Synthetic geometry, Algebra over a field, Segre classification, Orthonormality, Closed-form expression, Cartesian coordinate system, Resolvent set, Dynamic relaxation, Line–line intersection\n",
      "\n",
      "Articles in Cluster 9: Pseudovector, Pohlke's theorem, Gradient discretisation method, René Descartes, Multiphysics, Invariants of tensors, Generalized eigenvector, Multiplicative inverse, Vectorization (mathematics), Finite difference, Piecewise linear continuation, Figure of the Earth, Numerical methods in fluid mechanics, Matrix calculus, Parareal, Absolutely convex set, Orthant, Skew-Hamiltonian matrix, Hurwitz determinant, Maple (software), Trace diagram, Legendre pseudospectral method, Condition number, Finite von Neumann algebra, Mode of a linear field, Rule of Sarrus, Radial basis function, Computer vision, Cross product, Function composition, Aitken's delta-squared process, Three-dimensional space, Simpson's rule, Scarborough criterion, Vector projection, Rigid body dynamics, Van Wijngaarden transformation, Numerical differentiation, Birkhoff orthogonality, Multilinear algebra, List of uncertainty propagation software, Permanent (mathematics), Partial differential equation, Zero matrix, Endomorphism, Productive matrix, Cardinality\n",
      "\n",
      "Articles in Cluster 10: ND4S, Level set (data structures), Barycentric coordinate system, Loss of significance, Orthogonal Procrustes problem, Numerical error, Transformation matrix, Truncated power function, Charles Sanders Peirce, Adaptive stepsize, False precision, Relative change and difference, Orthogonal diagonalization, De Casteljau's algorithm, Benjamin Peirce, Clenshaw algorithm, Matrix similarity, Boundary particle method, Projection (linear algebra), Line segment, Conformable matrix, Complex conjugate, Overlap–save method, Special linear group, Multi-core processor, Finite Legendre transform, Diagonal matrix, Boundary knot method, Wilkinson's polynomial, MATLAB, Hypercomplex number, Euclidean space, Lorentz transformation\n",
      "\n",
      "Articles in Cluster 11: Leibniz formula for determinants, Polarization identity, Partial trace, Quasinorm, Weyl's inequality, Free module, Partial differential algebraic equation, Fangcheng (mathematics), Bernstein's constant, Material point method, Differential geometry, Invariant subspace, Symmetric matrix, Translation of axes, Lattice reduction, Field (physics), Fredholm's theorem, Diagonalizable matrix, Scalar (mathematics), Hilbert space, Singular boundary method, Eigengap, Perspectivity, Characteristic polynomial, Semi-infinite programming, Truncation, Pseudospectral knotting method, Jordan normal form, Hamming space, Pairing, Lie group integrator, Flat (geometry), Fredholm alternative, List of operator splitting topics, Applied element method, Linear map\n",
      "\n",
      "Articles in Cluster 12: Finitely generated module, Wave function, Flat pseudospectral method, Spherical basis, Weather forecasting, Homography, Quaternionic vector space, Matrix difference equation, Hilbert–Poincaré series, De Boor's algorithm, Golden–Thompson inequality, Minimax approximation algorithm, Robotics, Rotation (mathematics), Dimension (vector space), Dual space, Mixed linear complementarity problem, Image (mathematics), Isotonic regression, Polynomial ring, Row and column spaces, /wiki/Linear algebra, Quadratic form, Coordinate space, Order of accuracy, Isomorphism, Linear system, Hermitian adjoint, Equipollence (geometry), Intersection curve, Frame (linear algebra), Independent equation, Pointwise, Skew-Hermitian matrix\n",
      "\n",
      "Articles in Cluster 13: Rod calculus, Homogeneous coordinates, Elementary matrix, Butcher group, Timeline of numerical analysis after 1945, Propagation of uncertainty, Trace identity, Approximation theory, Commutative ring, Schmidt decomposition, Dual basis in a field extension, Residual (numerical analysis), Generalized singular value decomposition, Coopmans approximation, Gal's accurate tables, Balanced set, Zero mode, Augmented matrix, Numerical range, Flag (linear algebra), Matrix addition, Truncation error, Canonical map, Null vector, Rank factorization, K-SVD, Triple product, Principal ideal domain, Kernel (algebra), Gaussian elimination, Ross' π lemma, Singular value decomposition, Majorization, Cartesian tensor, Euclidean group, Sylvester's law of inertia, Total set, List of numerical analysis topics, Semilinear map, Multilevel Monte Carlo method, Discrete Fourier transform, Split-complex number, Eigenplane, Kahan summation algorithm, Von Neumann stability analysis, Regularized meshless method, Finitely generated abelian group, Graded (mathematics), Remez algorithm, Mesh generation, Coefficient matrix, Quaternion, Telegraphy, Subset, Trajectory (fluid mechanics), Carl Friedrich Gauss\n",
      "\n",
      "Articles in Cluster 14: Closest point method, Method of fundamental solutions, Unitary transformation, Weakened weak form, Runge–Kutta methods, Levinson recursion, Schur product theorem, Padé table, Superconvergence, Kernel (linear algebra), Iterative method, Spread of a matrix, Computational statistics, Stokes operator, Trace (linear algebra), Quadratic eigenvalue problem, Codimension, ND4J (software), Matrix determinant lemma, Monte Carlo method, Bellman pseudospectral method, Order of approximation, Hermann Grassmann, Surrogate model, Lanczos approximation, Mechanics, Nonstandard finite difference scheme, Inner product space, Engineering, Matrix (mathematics), Fusion frame, Reflection (mathematics), Quotient space (linear algebra), Tapering (mathematics), Numerical method, Differential-algebraic system of equations, Definite quadratic form, Predictor–corrector method, Tensor operator, Row and column vectors, Axiom, Wolfram Language, Rank (linear algebra), Group representation, File:Portal-puzzle.svg, Linear form, Z-order curve, Linear subspace, Complex conjugate vector space, Significance arithmetic, Homogeneous function, Non-negative matrix factorization, Linear inequality\n",
      "\n",
      "Articles in Cluster 15: Bidiagonal matrix, Whitney inequality, Trigonometric tables, Centrosymmetric matrix, Finite volume method, LAPACK, Gram–Schmidt process, Unrestricted algorithm, Stiffness matrix, Functional analysis, Template:Linear algebra, Galerkin method, Linear algebra, Reality structure, Jordan–Chevalley decomposition, Continuous wavelet, Probability box, Haynsworth inertia additivity formula, Linear span, Orientation of a vector bundle, Pseudo-spectral method, Orientation (vector space), Matrix analysis, Arthur Cayley, Complex plane, Fundamental theorem of linear algebra, Basis function, Pseudoscalar, Ambient space, Numerical stability, Shear mapping, Isometry, Unisolvent functions, Successive parabolic interpolation, Quantum mechanics, Bunch–Nielsen–Sorensen formula, Gottfried Wilhelm Leibniz, Newton fractal, Standard basis, Kempner series, Sinc numerical methods, Shanks transformation, Angles between flats, Jenkins–Traub algorithm, Hermite normal form, GetFEM++, Transfer matrix, Numeric precision in Microsoft Excel, Interval contractor, Big M method, Shear matrix, Function space, Vector field reconstruction, Cramer's rule, Numerical integration\n",
      "\n"
     ]
    }
   ],
   "source": [
    "# Showing the exact document titles in each cluster\n",
    "for k in range(len(cluster_result)):\n",
    "    print('Articles in Cluster ' + str(k+1) + ': ' + ', '.join(map(lambda x: titles[x], cluster_result[k])))\n",
    "    print()"
   ]
  },
  {
   "cell_type": "code",
   "execution_count": 44,
   "metadata": {},
   "outputs": [
    {
     "name": "stdout",
     "output_type": "stream",
     "text": [
      "[(0, 0.0001565686), (1, 0.00053356908), (2, 0.00021137619), (3, 0.00033610003), (4, 0.00039563267), (5, 0.00045810477), (6, 0.00025659194), (7, 2.762849e-05), (8, 0.00050713791), (9, 0.00065972056), (10, 0.00037355989), (11, 0.00066179119), (12, 0.0018381248), (13, 0.00030740097), (14, 0.00082502514)]\n"
     ]
    }
   ],
   "source": [
    "term_topics = ldamodel.get_term_topics('convex', minimum_probability=0.000001)\n",
    "print(term_topics)"
   ]
  },
  {
   "cell_type": "code",
   "execution_count": 45,
   "metadata": {},
   "outputs": [
    {
     "name": "stdout",
     "output_type": "stream",
     "text": [
      "------- Top 7 articles related to image -------\n",
      "Field (mathematics) \n",
      " 0.99975 \n",
      "\n",
      "Spinors in three dimensions \n",
      " 0.998064 \n",
      "\n",
      "Generator (mathematics) \n",
      " 0.997885 \n",
      "\n",
      "Transpose of a linear map \n",
      " 0.997189 \n",
      "\n",
      "Interval arithmetic \n",
      " 0.996175 \n",
      "\n",
      "Invertible matrix \n",
      " 0.996028 \n",
      "\n",
      "Peetre's inequality \n",
      " 0.992287 \n",
      "\n"
     ]
    }
   ],
   "source": [
    "# Getting related documents based on a term \n",
    "def get_related_documents(term, top, doc_term_matrix):\n",
    "    print('------- Top', top, 'articles related to',term,'-------')\n",
    "    related_docs = []\n",
    "    doc_topics = ldamodel.get_document_topics(doc_term_matrix, minimum_probability=0.20)\n",
    "    term_topics = ldamodel.get_term_topics(term, minimum_probability=0.000001)\n",
    "    term_topics.sort(key = itemgetter(1), reverse=True)\n",
    "    for k,topic in enumerate(doc_topics):\n",
    "        if topic:\n",
    "            topic.sort(key = itemgetter(1), reverse=True)\n",
    "            if topic[0][0] == term_topics[0][0]:\n",
    "                related_docs.append((k,topic[0][1]))\n",
    "    related_docs.sort(key = itemgetter(1), reverse=True)\n",
    "    result = []\n",
    "    for j,doc in enumerate(related_docs):\n",
    "        print(titles[doc[0]],\"\\n\",doc[1],\"\\n\")   \n",
    "        result.append(titles[doc[0]])\n",
    "        if j == top - 1:\n",
    "            break\n",
    "related_docs = get_related_documents('image', 7, doc_term_matrix)\n"
   ]
  },
  {
   "cell_type": "code",
   "execution_count": 45,
   "metadata": {},
   "outputs": [
    {
     "name": "stdout",
     "output_type": "stream",
     "text": [
      "13\n"
     ]
    }
   ],
   "source": [
    "def get_theme(doc, cluster_result):\n",
    "    doc_id = titles.index(doc)\n",
    "    if doc_id == -1:\n",
    "        print('Document not found.')\n",
    "        return\n",
    "    for i, cluster in enumerate(cluster_result):\n",
    "        if doc_id in cluster:\n",
    "            return i+1\n",
    "    return 0\n",
    "cluster_num = get_theme('Absolutely convex set', cluster_result)\n",
    "print(cluster_num)"
   ]
  },
  {
   "cell_type": "code",
   "execution_count": 46,
   "metadata": {},
   "outputs": [
    {
     "name": "stdout",
     "output_type": "stream",
     "text": [
      "TfidfModel(num_docs=611, num_nnz=143903)\n",
      "(0, 0.056852536755099284)\n"
     ]
    }
   ],
   "source": [
    "# Implementing tf-idf model; the only information needed from the previous part is the doc_term_matrix\n",
    "from gensim.models import TfidfModel, LsiModel\n",
    "tfidf_model = TfidfModel(doc_term_matrix, dictionary = dictionary)\n",
    "print(tfidf_model)\n",
    "vector = tfidf_model[doc_term_matrix[0]]\n",
    "print(vector[0])\n"
   ]
  },
  {
   "cell_type": "code",
   "execution_count": 47,
   "metadata": {},
   "outputs": [
    {
     "name": "stdout",
     "output_type": "stream",
     "text": [
      "LsiModel(num_terms=5846, num_topics=200, decay=1.0, chunksize=20000)\n"
     ]
    }
   ],
   "source": [
    "# Implementing LSI model; the only information needed from the previous part is the doc_term_matrix\n",
    "lsi_model = LsiModel(doc_term_matrix, id2word=dictionary)\n",
    "print(lsi_model)"
   ]
  },
  {
   "cell_type": "code",
   "execution_count": 48,
   "metadata": {},
   "outputs": [
    {
     "name": "stdout",
     "output_type": "stream",
     "text": [
      "611\n"
     ]
    }
   ],
   "source": [
    "# Creating the similarity matrix from simple bag-of-words model (# of documents * # of documents)\n",
    "from gensim import similarities\n",
    "\n",
    "index = similarities.MatrixSimilarity(doc_term_matrix, num_features=len(dictionary))\n",
    "print(len(index[doc_term_matrix[610]])) # 611 * 611 matrix"
   ]
  },
  {
   "cell_type": "code",
   "execution_count": 49,
   "metadata": {
    "collapsed": true
   },
   "outputs": [],
   "source": [
    "# Training tf-idf model from bag-of-word dataset\n",
    "model_tfidf = TfidfModel(doc_term_matrix, id2word=dictionary, normalize=False)"
   ]
  },
  {
   "cell_type": "code",
   "execution_count": 50,
   "metadata": {
    "collapsed": true
   },
   "outputs": [],
   "source": [
    "# Applying tf-idf model to all vectors\n",
    "from gensim.corpora import MmCorpus\n",
    "MmCorpus.serialize('./corpus_tfidf.mm', model_tfidf[doc_term_matrix], progress_cnt=100)"
   ]
  },
  {
   "cell_type": "code",
   "execution_count": 51,
   "metadata": {},
   "outputs": [
    {
     "name": "stdout",
     "output_type": "stream",
     "text": [
      "MatrixSimilarity<611 docs, 5846 features>\n"
     ]
    }
   ],
   "source": [
    "corpus_tfidf = MmCorpus('./corpus_tfidf.mm') # Loading back the corpus file after applying tf-idf\n",
    "model_lsi = LsiModel(corpus_tfidf, num_topics=15, id2word=dictionary)\n",
    "# Applying LSI model to all vectors\n",
    "index = similarities.MatrixSimilarity(model_lsi[corpus_tfidf], num_features=len(dictionary))\n",
    "print(index)\n",
    "index.save('./lsi_index.mm') # Saving the similarity matrix to a local matrix market file named './lsi_model.mm'"
   ]
  },
  {
   "cell_type": "code",
   "execution_count": 52,
   "metadata": {},
   "outputs": [
    {
     "name": "stdout",
     "output_type": "stream",
     "text": [
      "611\n"
     ]
    }
   ],
   "source": [
    "# Loading the similarity matrix back from the local file\n",
    "similarity_matrix = similarities.MatrixSimilarity.load('./lsi_index.mm')\n",
    "print(len(similarity_matrix))"
   ]
  },
  {
   "cell_type": "code",
   "execution_count": null,
   "metadata": {
    "collapsed": true
   },
   "outputs": [],
   "source": []
  }
 ],
 "metadata": {
  "kernelspec": {
   "display_name": "Python 3",
   "language": "python",
   "name": "python3"
  },
  "language_info": {
   "codemirror_mode": {
    "name": "ipython",
    "version": 3
   },
   "file_extension": ".py",
   "mimetype": "text/x-python",
   "name": "python",
   "nbconvert_exporter": "python",
   "pygments_lexer": "ipython3",
   "version": "3.6.1"
  }
 },
 "nbformat": 4,
 "nbformat_minor": 2
}
