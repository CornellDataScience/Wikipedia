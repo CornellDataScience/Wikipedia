{
 "cells": [
  {
   "cell_type": "code",
   "execution_count": 2,
   "metadata": {
    "collapsed": true
   },
   "outputs": [],
   "source": [
    "import json\n",
    "from bs4 import BeautifulSoup as bs4\n",
    "import requests\n",
    "import csv\n",
    "import re\n",
    "MAX_DEPTH = 3\n",
    "STEM = \"https://en.wikipedia.org\""
   ]
  },
  {
   "cell_type": "code",
   "execution_count": 3,
   "metadata": {
    "collapsed": true
   },
   "outputs": [],
   "source": [
    "#filtering out only raw text from the html file\n",
    "def visible(element):\n",
    "    if element.parent.name in ['style', 'script', '[document]', 'head', 'title']:\n",
    "        return False\n",
    "    elif re.match('<!--.*-->', str(element.encode('utf-8'))):\n",
    "        return False\n",
    "    return True"
   ]
  },
  {
   "cell_type": "code",
   "execution_count": 87,
   "metadata": {
    "collapsed": true
   },
   "outputs": [],
   "source": [
    "#build the json entry for a singular page\n",
    "def read_page(page):\n",
    "    #if depth == -1: return\n",
    "    print(\"reading page: \" + page)\n",
    "    page1 = requests.get(page)\n",
    "    full_text = \"\"\n",
    "    links=[]\n",
    "    desc_links = []\n",
    "    title=\"\"\n",
    "    #try:\n",
    "    soup = bs4(page1.text, \"html5lib\")\n",
    "    text = soup.find_all('p')\n",
    "    #extract text only before the \"see also\" section\n",
    "    see_also = soup.find('span', id='See_also')\n",
    "    title = str(soup.find('h1').getText())\n",
    "    toc = text.find(\"div\", {\"class\": \"toc\"})\n",
    "    for p in see_also.parent.previous_siblings:\n",
    "        alt = p.find('img')\n",
    "        if not alt and p.name == 'p':\n",
    "            full_text += str(p.getText())#.encode('utf-8', 'ignore'))\n",
    "            for a in p.find_all('a'):\n",
    "                if a['href'][:6] == \"/wiki/\": links.append(a['href'])\n",
    "    for p in toc.previous_siblings:\n",
    "        if p.name == \"p\":\n",
    "            for a in p.find_all('a'):\n",
    "                if a['href'][:6] == \"/wiki/\": desc_links.append(a['href'])\n",
    "    #except AttributeError:\n",
    "    #    print(\"invalid page, skipping\")\n",
    "    #except KeyError: \n",
    "    #    pass\n",
    "    filter(visible,full_text)\n",
    "    #print(title + full_text)\n",
    "    page_dict = {'title': title, 'url': page, 'links': links, 'text': full_text, 'desc_links': desc_links}\n",
    "    return page_dict"
   ]
  },
  {
   "cell_type": "code",
   "execution_count": 89,
   "metadata": {},
   "outputs": [
    {
     "name": "stdout",
     "output_type": "stream",
     "text": [
      "reading page: https://en.wikipedia.org/wiki/Linear_algebra\n",
      "invalid page, skipping\n"
     ]
    },
    {
     "data": {
      "text/plain": [
       "{'desc_links': [],\n",
       " 'links': [],\n",
       " 'text': '',\n",
       " 'title': 'Linear algebra',\n",
       " 'url': 'https://en.wikipedia.org/wiki/Linear_algebra'}"
      ]
     },
     "execution_count": 89,
     "metadata": {},
     "output_type": "execute_result"
    }
   ],
   "source": [
    "read_page(\"https://en.wikipedia.org/wiki/Linear_algebra\")\n"
   ]
  },
  {
   "cell_type": "code",
   "execution_count": 88,
   "metadata": {
    "scrolled": true
   },
   "outputs": [
    {
     "name": "stdout",
     "output_type": "stream",
     "text": [
      "reading page: https://en.wikipedia.org/wiki/Linear_algebra\n",
      "invalid page, skipping\n",
      "{'pages': [{'title': 'Linear algebra', 'url': 'https://en.wikipedia.org/wiki/Linear_algebra', 'links': [], 'text': '', 'desc_links': []}]}\n"
     ]
    }
   ],
   "source": [
    "data = {}\n",
    "data['pages'] = [] #nested array so can append new pages as needed\n",
    "data['pages'].append(read_page(\"https://en.wikipedia.org/wiki/Linear_algebra\"))\n",
    "print(data)\n",
    "origin_links = data['pages'][0]['desc_links']\n",
    "#for l in origin_links:\n",
    "#    data['pages'].append(read_page(STEM + l))"
   ]
  },
  {
   "cell_type": "code",
   "execution_count": 76,
   "metadata": {},
   "outputs": [
    {
     "ename": "KeyError",
     "evalue": "'desc_links'",
     "output_type": "error",
     "traceback": [
      "\u001b[1;31m---------------------------------------------------------------------------\u001b[0m",
      "\u001b[1;31mKeyError\u001b[0m                                  Traceback (most recent call last)",
      "\u001b[1;32m<ipython-input-76-f35810668a19>\u001b[0m in \u001b[0;36m<module>\u001b[1;34m()\u001b[0m\n\u001b[0;32m      5\u001b[0m     \u001b[1;31m#for p in data['pages']:#once done, change to no include the first entry- that's our root entry and already computed\u001b[0m\u001b[1;33m\u001b[0m\u001b[1;33m\u001b[0m\u001b[0m\n\u001b[0;32m      6\u001b[0m         \u001b[0mp\u001b[0m \u001b[1;33m=\u001b[0m \u001b[0mdata\u001b[0m\u001b[1;33m[\u001b[0m\u001b[1;34m'pages'\u001b[0m\u001b[1;33m]\u001b[0m\u001b[1;33m[\u001b[0m\u001b[0mi\u001b[0m\u001b[1;33m]\u001b[0m\u001b[1;33m\u001b[0m\u001b[0m\n\u001b[1;32m----> 7\u001b[1;33m         \u001b[1;32mfor\u001b[0m \u001b[0ml\u001b[0m \u001b[1;32min\u001b[0m \u001b[0mp\u001b[0m\u001b[1;33m[\u001b[0m\u001b[1;34m'desc_links'\u001b[0m\u001b[1;33m]\u001b[0m\u001b[1;33m:\u001b[0m\u001b[1;33m\u001b[0m\u001b[0m\n\u001b[0m\u001b[0;32m      8\u001b[0m         \u001b[1;31m#print(p['url'])\u001b[0m\u001b[1;33m\u001b[0m\u001b[1;33m\u001b[0m\u001b[0m\n\u001b[0;32m      9\u001b[0m             \u001b[0mdata_2\u001b[0m\u001b[1;33m[\u001b[0m\u001b[1;34m'pages'\u001b[0m\u001b[1;33m]\u001b[0m\u001b[1;33m.\u001b[0m\u001b[0mappend\u001b[0m\u001b[1;33m(\u001b[0m\u001b[0mread_page\u001b[0m\u001b[1;33m(\u001b[0m\u001b[0mSTEM\u001b[0m \u001b[1;33m+\u001b[0m \u001b[0ml\u001b[0m\u001b[1;33m)\u001b[0m\u001b[1;33m)\u001b[0m\u001b[1;31m# this making it depth 3, not 2!\u001b[0m\u001b[1;33m\u001b[0m\u001b[0m\n",
      "\u001b[1;31mKeyError\u001b[0m: 'desc_links'"
     ]
    }
   ],
   "source": [
    "try: \n",
    "    data_2 = {}\n",
    "    data_2['pages'] = []\n",
    "    for i in range(1, len(data['pages'])):\n",
    "    #for p in data['pages']:#once done, change to no include the first entry- that's our root entry and already computed\n",
    "        p = data['pages'][i]\n",
    "        for l in p['desc_links']:\n",
    "        #print(p['url'])\n",
    "            data_2['pages'].append(read_page(STEM + l))# this making it depth 3, not 2!\n",
    "except ConnectionError: \n",
    "    print(\"wikipedia is bad, waiting 1 second\")\n",
    "    time.sleep(1)"
   ]
  },
  {
   "cell_type": "code",
   "execution_count": 67,
   "metadata": {},
   "outputs": [],
   "source": [
    "with open('linalg.json', 'w') as f: \n",
    "    json.dump(data, f,sort_keys=True, indent=4)"
   ]
  },
  {
   "cell_type": "code",
   "execution_count": 56,
   "metadata": {
    "collapsed": true
   },
   "outputs": [],
   "source": []
  }
 ],
 "metadata": {
  "kernelspec": {
   "display_name": "Python 3",
   "language": "python",
   "name": "python3"
  },
  "language_info": {
   "codemirror_mode": {
    "name": "ipython",
    "version": 3
   },
   "file_extension": ".py",
   "mimetype": "text/x-python",
   "name": "python",
   "nbconvert_exporter": "python",
   "pygments_lexer": "ipython3",
   "version": "3.6.1"
  }
 },
 "nbformat": 4,
 "nbformat_minor": 2
}
