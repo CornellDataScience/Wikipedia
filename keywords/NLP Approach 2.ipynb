{
 "cells": [
  {
   "cell_type": "code",
   "execution_count": 1,
   "metadata": {
    "collapsed": true
   },
   "outputs": [],
   "source": [
    "import numpy\n",
    "import pandas as pd\n",
    "import nltk\n",
    "import re\n",
    "import io"
   ]
  },
  {
   "cell_type": "code",
   "execution_count": 3,
   "metadata": {},
   "outputs": [
    {
     "name": "stdout",
     "output_type": "stream",
     "text": [
      "682 titles\n",
      "682 docs\n",
      "Mathematical physics\n",
      "Prominent contributors to the  century's mathematical physics (although the list contains some typically theoretical, not mathematical, physicists and leaves many contributors out; please also note that since the page can be edited by anyone, sometimes less deserved mentions can pop up in the list) include, ordered by birth date, William Thomson (Lord Kelvin) [–], Oliver Heaviside [–], Jules Henri Poincaré [–] , David Hilbert [–], Arnold Sommerfeld [–], Constantin Caratheodory [–], Albert Einstein [–], Max Born [–], George David Birkhoff [-], Niels Bohr [–], Hermann Weyl [–], Satyendra Nath Bose [–], Norbert Wiener [–], Wolfgang Pauli [–], Werner Heisenberg [–], Paul Dirac [–], Eugene Wigner [–], Lars Onsager [-], John von Neumann [–], Sin-Itiro Tomonaga [–], Hideki Yukawa [–], Lev Davidovich Landau [–], Nikolay Nikolayevich Bogolyubov [–], Subrahmanyan Chandrasekhar [-], Mark Kac [–], Julian Schwinger [–], Richard Phillips Feynman [–], Irving Ezra Segal [–], Arthur Strong Wightman [–], Chen-Ning Yang [– ], Rudolf Haag [–], Freeman Dyson [– ], Martin Gutzwiller [–], Abdus Salam [–], Jürgen Moser [–], Michael Francis Atiyah [– ], Joel Louis Lebowitz [– ], Roger Penrose [– ], Elliott Hershel Lieb [– ], Sheldon Lee Glashow [– ], Steven Weinberg [– ], Ludvig D. Faddeev [–], David Ruelle [– ], Yakov Grigorevich Sinai [– ], Vladimir Igorevich Arnold [–], Arthur Jaffe [– ], Roman Wladimir Jackiw [– ], Leonard Susskind [– ], Rodney James Baxter [– ], Michael Victor Berry [- ], Giovanni Gallavotti [- ], Stephen William Hawking [–], Jerrold Eldon Marsden [–], Alexander Markovich Polyakov [– ], Gerardus 't Hooft [– ], John L. Cardy [– ], Giorgio Parisi [– ], Edward Witten [– ], Herbert Spohn [?– ], Ashoke Sen [-] and Juan Martín Maldacena [– ].Another revolutionary development of the  century was quantum theory, which emerged from the seminal contributions of Max Planck (–) (on black body radiation) and Einstein's work on the photoelectric effect. This was, at first, followed by a heuristic framework devised by Arnold Sommerfeld (–) and Niels Bohr (–), but this was soon replaced by the quantum mechanics developed by Max Born (–), Werner Heisenberg (–), Paul Dirac (–), Erwin Schrödinger (–), Satyendra Nath Bose (–), and Wolfgang Pauli (–). This revolutionary theoretical framework is based on a probabilistic interpretation of states, and evolution and measurements in terms of self-adjoint operators on an infinite dimensional vector space. That is called Hilbert space, introduced in its elementary form by David Hilbert (–) and Frigyes Riesz (-), and rigorously defined within the axiomatic modern version by John von Neumann in his celebrated book Mathematical Foundations of Quantum Mechanics, where he built up a relevant part of modern functional analysis on Hilbert spaces, the spectral theory in particular. Paul Dirac used algebraic constructions to produce a relativistic model for the electron, predicting its magnetic moment and the existence of its antiparticle, the positron.In , Einstein's former professor Hermann Minkowski modeled  space together with the  axis of time by treating the temporal axis like a fourth spatial dimension—altogether  spacetime—and declared the imminent demise of the separation of space and time. Einstein initially called this \"superfluous learnedness\", but later used Minkowski spacetime with great elegance in his general theory of relativity, extending invariance to all reference frames—whether perceived as inertial or as accelerated—and credited this to Minkowski, by then deceased. General relativity replaces Cartesian coordinates with Gaussian coordinates, and replaces Newton's claimed empty yet Euclidean space traversed instantly by Newton's vector of hypothetical gravitational force—an instant action at a distance—with a gravitational field. The gravitational field is Minkowski spacetime itself, the  topology of Einstein aether modeled on a Lorentzian manifold that \"curves\" geometrically, according to the Riemann curvature tensor, in the vicinity of either mass or energy. (Under special relativity—a special case of general relativity—even massless energy exerts gravitational effect by its mass equivalence locally \"curving\" the geometry of the four, unified dimensions of space and time.)In the  century, Gauss's contributions to non-Euclidean geometry, or geometry on curved surfaces, laid the groundwork for the subsequent development of Riemannian geometry by Bernhard Riemann (–). Austrian theoretical physicist and philosopher Ernst Mach criticized Newton's postulated absolute space. Mathematician Jules-Henri Poincaré (–) questioned even absolute time. In , Pierre Duhem published a devastating criticism of the foundation of Newton's theory of motion. Also in , Albert Einstein (–) published his special theory of relativity, newly explaining both the electromagnetic field's invariance and Galilean invariance by discarding all hypotheses concerning aether, including the existence of aether itself. Refuting the framework of Newton's theory—absolute space and absolute time—special relativity refers to relative space and relative time, whereby length contracts and time dilates along the travel pathway of an object.In , experimentalists Michelson and Morley failed to detect aether drift, however. It was hypothesized that motion into the aether prompted aether's shortening, too, as modeled in the Lorentz contraction. It was hypothesized that the aether thus kept Maxwell's electromagnetic field aligned with the principle of Galilean invariance across all inertial frames of reference, while Newton's theory of motion was spared.By the , there was a prominent paradox that an observer within Maxwell's electromagnetic field measured it at approximately constant speed, regardless of the observer's speed relative to other objects within the electromagnetic field. Thus, although the observer's speed was continually lost[clarification needed] relative to the electromagnetic field, it was preserved relative to other objects in the electromagnetic field. And yet no violation of Galilean invariance within physical interactions among objects was detected. As Maxwell's electromagnetic field was modeled as oscillations of the aether, physicists inferred that motion within the aether resulted in aether drift, shifting the electromagnetic field, explaining the observer's missing speed relative to it. The Galilean transformation had been the mathematical process used to translate the positions in one reference frame to predictions of positions in another reference frame, all plotted on Cartesian coordinates, but this process was replaced by Lorentz transformation, modeled by the Dutch Hendrik Lorentz [–].The English physicist Lord Rayleigh [–] worked on sound. The Irishmen William Rowan Hamilton (–), George Gabriel Stokes (–) and Lord Kelvin (–) produced several major works: Stokes was a leader in optics and fluid dynamics; Kelvin made substantial discoveries in thermodynamics; Hamilton did notable work on analytical mechanics, discovering a new and powerful approach nowadays known as Hamiltonian mechanics. Very relevant contributions to this approach are due to his German colleague Carl Gustav Jacobi (–) in particular referring to canonical transformations. The German Hermann von Helmholtz (–) made substantial contributions in the fields of electromagnetism, waves, fluids, and sound. In the United States, the pioneering work of Josiah Willard Gibbs (–) became the basis for statistical mechanics. Fundamental theoretical results in this area were achieved by the German Ludwig Boltzmann (-). Together, these individuals laid the foundations of electromagnetic theory, fluid dynamics, and statistical mechanics.A couple of decades ahead of Newton's publication of a particle theory of light, the Dutch Christiaan Huygens (–) developed the wave theory of light, published in . By , Thomas Young's double-slit experiment revealed an interference pattern, as though light were a wave, and thus Huygens's wave theory of light, as well as Huygens's inference that light waves were vibrations of the luminiferous aether, was accepted. Jean-Augustin Fresnel modeled hypothetical behavior of the aether. Michael Faraday introduced the theoretical concept of a field—not action at a distance. Mid- century, the Scottish James Clerk Maxwell (–) reduced electricity and magnetism to Maxwell's electromagnetic field theory, whittled down by others to the four Maxwell's equations. Initially, optics was found consequent of[clarification needed] Maxwell's field. Later, radiation and then today's known electromagnetic spectrum were found also consequent of[clarification needed] this electromagnetic field.Into the early  century, the French Pierre-Simon Laplace (–) made paramount contributions to mathematical astronomy, potential theory, and probability theory. Siméon Denis Poisson (–) worked in analytical mechanics and potential theory. In Germany, Carl Friedrich Gauss (–) made key contributions to the theoretical foundations of electricity, magnetism, mechanics, and fluid dynamics. In England, George Green (-) published An Essay on the Application of Mathematical Analysis to the Theories of Electricity and Magnetism in , which in addition to its significant contributions to mathematics made early progress towards laying down the mathematical foundations of electricity and magnetism.In the  century, the Swiss Daniel Bernoulli (–) made contributions to fluid dynamics, and vibrating strings. The Swiss Leonhard Euler (–) did special work in variational calculus, dynamics, fluid dynamics, and other areas. Also notable was the Italian-born Frenchman, Joseph-Louis Lagrange (–) for work in analytical mechanics: he formulated Lagrangian mechanics) and variational methods. A major contribution to the formulation of Analytical Dynamics called Hamiltonian dynamics was also made by the Irish physicist, astronomer and mathematician, William Rowan Hamilton (-). Hamiltonian dynamics had played an important role in the formulation of modern theories in physics, including field theory and quantum mechanics. The French mathematical physicist Joseph Fourier ( – ) introduced the notion of Fourier series to solve the heat equation, giving rise to a new approach to solving partial differential equations by means of integral transforms.Isaac Newton (–) developed new mathematics, including calculus and several numerical methods such as Newton's method to solve problems in physics. Newton's theory of motion, published in , modeled three Galilean laws of motion along with Newton's law of universal gravitation on a framework of absolute space—hypothesized by Newton as a physically real entity of Euclidean geometric structure extending infinitely in all directions—while presuming absolute time, supposedly justifying knowledge of absolute motion, the object's motion with respect to absolute space. The principle of Galilean invariance/relativity was merely implicit in Newton's theory of motion. Having ostensibly reduced the Keplerian celestial laws of motion as well as Galilean terrestrial laws of motion to a unifying force, Newton achieved great mathematical rigor, but with theoretical laxity.Christiaan Huygens was the first to use mathematical formula's to describe the laws of physics, and for that reason Huygens is regarded as the first theoretical physicist and the founder of mathematical physics.René Descartes adopted Galilean principles and developed a complete system of heliocentric cosmology, anchored on the principle of vortex motion, Cartesian physics, whose widespread acceptance brought the demise of Aristotelian physics. Descartes sought to formalize mathematical reasoning in science, and developed Cartesian coordinates for geometrically plotting locations in  space and marking their progressions along the flow of time.An enthusiastic atomist, Galileo Galilei in his  book The Assayer asserted that the \"book of nature\" is written in mathematics. His  book, about his telescopic observations, supported heliocentrism. Having introduced experimentation, Galileo then refuted geocentric cosmology by refuting Aristotelian physics itself. Galilei's  book Discourse on Two New Sciences established the law of equal free fall as well as the principles of inertial motion, founding the central concepts of what would become today's classical mechanics. By the Galilean law of inertia as well as the principle of Galilean invariance, also called Galilean relativity, for any object experiencing inertia, there is empirical justification for knowing only that it is at relative rest or relative motion—rest or motion with respect to another object.In the first decade of the  century, amateur astronomer Nicolaus Copernicus proposed heliocentrism, and published a treatise on it in . Not quite radical[clarification needed], Copernicus merely sought to simplify astronomy and achieve orbits of more perfect circles, stated by Aristotelian physics to be the intrinsic motion of Aristotle's fifth element—the quintessence or universal essence known in Greek as aither for the English pure air—that was the pure substance beyond the sublunary sphere, and thus was celestial entities' pure composition. The German Johannes Kepler [–], Tycho Brahe's assistant, modified Copernican orbits to ellipses, formalized in the equations of Kepler's laws of planetary motion.The roots of mathematical physics can be traced back to the likes of Archimedes in Greece, Ptolemy in Egypt, Alhazen in Iraq, and Al-Biruni in Persia.The effort to put physical theories on a mathematically rigorous footing has inspired many mathematical developments. For example, the development of quantum mechanics and some aspects of functional analysis parallel each other in many ways. The mathematical study of quantum mechanics, quantum field theory, and quantum statistical mechanics has motivated results in operator algebras. The attempt to construct a rigorous quantum field theory has also brought about progress in fields such as representation theory. Use of geometry and topology plays an important role in string theory.Such mathematical physicists primarily expand and elucidate physical theories. Because of the required level of mathematical rigour, these researchers often deal with questions that theoretical physicists have considered to be already solved. However, they can sometimes show (but neither commonly nor easily) that the previous solution was incomplete, incorrect, or simply too naïve. Issues about attempts to infer the second law of thermodynamics from statistical mechanics are examples. Other examples concern the subtleties involved with synchronisation procedures in special and general relativity (Sagnac effect and Einstein synchronisation)On the other hand, theoretical physics emphasizes the links to observations and experimental physics, which often requires theoretical physicists (and mathematical physicists in the more general sense) to use heuristic, intuitive, and approximate arguments. Such arguments are not considered rigorous by mathematicians, but that is changing over time.The term \"mathematical physics\" is sometimes used to denote research aimed at studying and solving problems inspired by physics or thought experiments within a mathematically rigorous framework. In this sense, mathematical physics covers a very broad academic realm distinguished only by the blending of pure mathematics and physics. Although related to theoretical physics, mathematical physics in this sense emphasizes the mathematical rigour of the same type as found in mathematics.The usage of the term \"mathematical physics\" is sometimes idiosyncratic. Certain parts of mathematics that initially arose from the development of physics are not, in fact, considered parts of mathematical physics, while other closely related fields are. For example, ordinary differential equations and symplectic geometry are generally viewed as purely mathematical disciplines, whereas dynamical systems and Hamiltonian mechanics belong to mathematical physics. John Herapath used the term for the title of his  text on \"mathematical principles of natural philosophy\"; the scope at that time being \"the causes of heat, gaseous elasticity, gravitation, and other great phenomena of nature\".Statistical mechanics forms a separate field, which includes the theory of phase transitions. It relies upon the Hamiltonian mechanics (or its quantum version) and it is closely related with the more mathematical ergodic theory and some parts of probability theory. There are increasing interactions between combinatorics and physics, in particular statistical physics.The special and general theories of relativity require a rather different type of mathematics. This was group theory, which played an important role in both quantum field theory and differential geometry. This was, however, gradually supplemented by topology and functional analysis in the mathematical description of cosmological as well as quantum field theory phenomena. In this area both homological algebra and category theory are important nowadays.The theory of atomic spectra (and, later, quantum mechanics) developed almost concurrently with the mathematical fields of linear algebra, the spectral theory of operators, operator algebras and more broadly, functional analysis. Nonrelativistic quantum mechanics includes Schrödinger operators, and it has connections to atomic and molecular physics. Quantum information theory is another subspecialty.The theory of partial differential equations (and the related areas of variational calculus, Fourier analysis, potential theory, and vector analysis) are perhaps most closely associated with mathematical physics. These were developed intensively from the second half of the  century (by, for example, D'Alembert, Euler, and Lagrange) until the . Physical applications of these developments include hydrodynamics, celestial mechanics, continuum mechanics, elasticity theory, acoustics, thermodynamics, electricity, magnetism, and aerodynamics.The rigorous, abstract and advanced reformulation of Newtonian mechanics adopting the Lagrangian mechanics and the Hamiltonian mechanics even in the presence of constraints. Both formulations are embodied in analytical mechanics. It leads, for instance, to discover the deep interplay of the notion of symmetry[clarification needed] and that of conserved quantities during the dynamical evolution[clarification needed], stated within the most elementary formulation of Noether's theorem. These approaches and ideas can be, and in fact have been, extended to other areas of physics as statistical mechanics, continuum mechanics, classical field theory and quantum field theory. Moreover, they have provided several examples and basic ideas in differential geometry (e.g. the theory of vector bundles and several notions in symplectic geometry).There are several distinct branches of mathematical physics, and these roughly correspond to particular historical periods.Mathematical physics refers to the development of mathematical methods for application to problems in physics. The Journal of Mathematical Physics defines the field as \"the application of mathematics to problems in physics and the development of mathematical methods suitable for such applications and for the formulation of physical theories\". It is a branch of applied mathematics, but deals with physical problems.\n"
     ]
    }
   ],
   "source": [
    "#titles = io.open(\"titles.txt\", mode=\"r\", encoding=\"utf-8\", errors=\"ignore\").read().split('\\n')\n",
    "docs = io.open(\".txt\", mode=\"r\", encoding=\"utf-8\", errors=\"ignore\").read()\n",
    "docs = re.sub(r\"\\[\\d+\\]\", \"\", docs)\n",
    "docs = re.sub(r'\\w*\\d\\w*', '', docs).split('\\n')\n",
    "\n",
    "titles = [docs[i] for i in range(len(docs)) if i % 2 == 0]\n",
    "docs = [docs[i] for i in range(len(docs)) if i % 2 == 1]\n",
    "\n",
    "\n",
    "print(str(len(titles)) + ' titles')\n",
    "print(str(len(docs)) + ' docs')\n",
    "print(titles[-20])\n",
    "print(docs[-20])\n",
    "\n",
    "ranks = []\n",
    "\n",
    "for i in range(0,len(titles)):\n",
    "    ranks.append(i)\n",
    "stopwords = nltk.corpus.stopwords.words('english')\n",
    "from nltk.stem.snowball import SnowballStemmer\n",
    "stemmer = SnowballStemmer(\"english\")"
   ]
  },
  {
   "cell_type": "code",
   "execution_count": 4,
   "metadata": {
    "collapsed": true
   },
   "outputs": [],
   "source": [
    "def tokenize_and_stem(text):\n",
    "    # first tokenize by sentence, then by word to ensure that punctuation is caught as it's own token\n",
    "    tokens = [word for sent in nltk.sent_tokenize(text) for word in nltk.word_tokenize(sent)]\n",
    "    filtered_tokens = []\n",
    "    # filter out any tokens not containing letters (e.g., numeric tokens, raw punctuation)\n",
    "    for token in tokens:\n",
    "        if re.search('[a-zA-Z]', token):\n",
    "            filtered_tokens.append(token)\n",
    "    stems = [stemmer.stem(t) for t in filtered_tokens]\n",
    "    return stems\n",
    "\n",
    "\n",
    "def tokenize_only(text):\n",
    "    # first tokenize by sentence, then by word to ensure that punctuation is caught as it's own token\n",
    "    tokens = [word.lower() for sent in nltk.sent_tokenize(text) for word in nltk.word_tokenize(sent)]\n",
    "    filtered_tokens = []\n",
    "    # filter out any tokens not containing letters (e.g., numeric tokens, raw punctuation)\n",
    "    for token in tokens:\n",
    "        if re.search('[a-zA-Z]', token):\n",
    "            filtered_tokens.append(token)\n",
    "    return filtered_tokens\n",
    "\n",
    "totalvocab_stemmed = []\n",
    "totalvocab_tokenized = []\n",
    "for i in docs:\n",
    "    allwords_stemmed = tokenize_and_stem(i)\n",
    "    totalvocab_stemmed.extend(allwords_stemmed)\n",
    "    \n",
    "    allwords_tokenized = tokenize_only(i)\n",
    "    totalvocab_tokenized.extend(allwords_tokenized)"
   ]
  },
  {
   "cell_type": "code",
   "execution_count": 5,
   "metadata": {
    "collapsed": true
   },
   "outputs": [],
   "source": [
    "vocab_frame = pd.DataFrame({'words': totalvocab_tokenized}, index = totalvocab_stemmed)"
   ]
  },
  {
   "cell_type": "code",
   "execution_count": 6,
   "metadata": {},
   "outputs": [
    {
     "name": "stdout",
     "output_type": "stream",
     "text": [
      "CPU times: user 9 s, sys: 191 ms, total: 9.19 s\n",
      "Wall time: 10.2 s\n",
      "(682, 121)\n"
     ]
    }
   ],
   "source": [
    "from sklearn.feature_extraction.text import TfidfVectorizer\n",
    "\n",
    "tfidf_vectorizer = TfidfVectorizer(max_df=0.8, max_features=200000,\n",
    "                                 min_df=0.1, stop_words= stopwords,\n",
    "                                 use_idf=True, tokenizer=tokenize_and_stem, ngram_range=(1,3))\n",
    "\n",
    "%time tfidf_matrix = tfidf_vectorizer.fit_transform(docs)\n",
    "\n",
    "print(tfidf_matrix.shape)"
   ]
  },
  {
   "cell_type": "code",
   "execution_count": 7,
   "metadata": {},
   "outputs": [
    {
     "name": "stdout",
     "output_type": "stream",
     "text": [
      "[\"'s\", 'abl', 'addit', 'algebra', 'algorithm', 'also', 'analysi', 'ani', 'anoth', 'appli', 'applic', 'appropri', 'base', 'becaus', 'book', 'book number', 'book sourc', 'call', 'case', 'chang', 'common', 'complex', 'comput', 'concept', 'consid', 'continu', 'defin', 'definit', 'describ', 'determin', 'develop', 'differ', 'doe', 'edit', 'element', 'english', 'equat', 'equival', 'even', 'exampl', 'exist', 'express', 'field', 'find', 'first', 'follow', 'form', 'function', 'general', 'given', 'help', 'howev', 'import', 'includ', 'intern', 'intern standard', 'intern standard book', 'isbn', 'known', 'languag', 'like', 'linear', 'link', 'look', 'mani', 'mathemat', 'may', 'mean', 'method', 'might', 'multipl', 'natur', 'need', 'number', 'object', 'often', 'one', 'onli', 'oper', 'order', 'origin', 'page', 'part', 'particular', 'point', 'problem', 'product', 'properti', 'real', 'record', 'refer', 'relat', 'repres', 'requir', 'result', 'search', 'see', 'set', 'sever', 'sinc', 'sourc', 'space', 'special', 'standard', 'standard book', 'standard book number', 'structur', 'studi', 'system', 'term', 'theori', 'thus', 'time', 'titl', 'two', 'use', 'usual', 'vector', 'way', 'well', 'work']\n"
     ]
    }
   ],
   "source": [
    "terms = tfidf_vectorizer.get_feature_names()\n",
    "print(terms)"
   ]
  },
  {
   "cell_type": "code",
   "execution_count": 7,
   "metadata": {
    "collapsed": true
   },
   "outputs": [],
   "source": [
    "from sklearn.metrics.pairwise import cosine_similarity\n",
    "dist = 1 - cosine_similarity(tfidf_matrix)"
   ]
  },
  {
   "cell_type": "code",
   "execution_count": 8,
   "metadata": {},
   "outputs": [
    {
     "name": "stdout",
     "output_type": "stream",
     "text": [
      "Wall time: 17.8 s\n"
     ]
    }
   ],
   "source": [
    "from sklearn.cluster import KMeans\n",
    "\n",
    "num_clusters = 7\n",
    "\n",
    "km = KMeans(n_clusters=num_clusters)\n",
    "\n",
    "%time km.fit(tfidf_matrix)\n",
    "\n",
    "clusters = km.labels_.tolist()"
   ]
  },
  {
   "cell_type": "code",
   "execution_count": 9,
   "metadata": {
    "collapsed": true
   },
   "outputs": [],
   "source": [
    "from sklearn.externals import joblib\n",
    "\n",
    "joblib.dump(km,  'doc_cluster.pkl')\n",
    "km = joblib.load('doc_cluster.pkl')\n",
    "clusters = km.labels_.tolist()"
   ]
  },
  {
   "cell_type": "code",
   "execution_count": 10,
   "metadata": {
    "collapsed": true
   },
   "outputs": [],
   "source": [
    "results = { 'title': titles, 'rank': ranks, 'docs': docs, 'cluster': clusters}\n",
    "\n",
    "frame = pd.DataFrame(results, index = [clusters] , columns = ['rank', 'title', 'cluster'])"
   ]
  },
  {
   "cell_type": "code",
   "execution_count": 11,
   "metadata": {},
   "outputs": [
    {
     "name": "stdout",
     "output_type": "stream",
     "text": [
      "Top terms per cluster:\n",
      "\n",
      "Cluster 0 words: mathematics, theory, universe, science, studied, 's,\n",
      "\n",
      "Cluster 0 titles: Mathematics, Gottfried Wilhelm Leibniz, Carl Friedrich Gauss, Hermann Grassmann, James Joseph Sylvester, Arthur Cayley, Giuseppe Peano, School Mathematics Study Group, Axiom, Axiom, Marie A. Vitulli, Alan Tucker, Martha Siegel, Graduate Texts in Mathematics, James Demmel, Israel Gelfand, Ray Kunze, Mathematical Reviews, Paul Halmos, Undergraduate Texts in Mathematics, Igor Shafarevich, Michiel Hazewinkel, Encyclopedia of Mathematics, MathWorld, Template talk:Areas of mathematics, Areas of mathematics, Mathematics, Outline of mathematics, Lists of mathematics topics, History of mathematics, Philosophy of mathematics, Philosophy of mathematics education, Set theory, Theory of computation, Number theory, Combinatorics, Mathematical physics, Computer science, Recreational mathematics, Mathematics and art, Mathematics education, Mathematical logic, Pure mathematics, Applied mathematics, Discrete mathematics, Computational mathematics, Portal:Mathematics, Wikipedia:WikiProject Mathematics,\n",
      "\n",
      "Cluster 1 words: equations, solution, linear, system, variables, linear,\n",
      "\n",
      "Cluster 1 titles: Elementary algebra, Linear equation, Nonlinear system, System of linear equations, Cramer's rule, Cramer's rule, Linearity, System of linear equations, Linear least squares (mathematics), Partial differential equation, Schrödinger equation, Linear equation, System of linear equations, Cramer's rule, System of polynomial equations, Linear equation, Linear equation over a ring, System of linear equations, Simplex algorithm, Linear programming, System of linear equations, Cramer's rule, Numerical stability, Elementary algebra, Differential equation, Numerical analysis,\n",
      "\n",
      "Cluster 2 words: isbn, digital, registration, checked, published, checked,\n",
      "\n",
      "Cluster 2 titles: International Standard Book Number, International Standard Book Number, International Standard Book Number, International Standard Book Number, International Standard Book Number, International Standard Book Number, International Standard Book Number, International Standard Book Number, International Standard Book Number, International Standard Book Number, International Standard Book Number, International Standard Book Number, International Standard Book Number, International Standard Book Number, International Standard Book Number, International Standard Book Number, International Standard Book Number, International Standard Book Number, International Standard Book Number, International Standard Book Number, International Standard Book Number, International Standard Book Number, International Standard Book Number, International Standard Book Number, International Standard Book Number, International Standard Book Number, International Standard Book Number, International Standard Book Number, International Standard Book Number, International Standard Book Number, International Standard Book Number, International Standard Book Number, International Standard Book Number, International Standard Book Number, International Standard Book Number, International Standard Book Number, International Standard Book Number, International Standard Book Number, International Standard Book Number, International Standard Book Number, International Standard Book Number, International Standard Book Number, International Standard Book Number, International Standard Book Number, International Standard Book Number, International Standard Book Number, International Standard Book Number, International Standard Book Number, International Standard Book Number, International Standard Book Number,\n",
      "\n",
      "Cluster 3 words: books, isbn, links, wikipedia, search, pages,\n",
      "\n",
      "Cluster 3 titles: Book sources, Book sources, Book sources, Book sources, Book sources, Book sources, Book sources, Book sources, Book sources, Book sources, Book sources, Book sources, Book sources, Book sources, Book sources, Book sources, Book sources, Book sources, Book sources, Book sources, Book sources, Book sources, Book sources, Book sources, Book sources, Book sources, Book sources, Book sources, Book sources, Book sources, Book sources, Book sources, Book sources, Book sources, Book sources, Book sources, Book sources, Book sources, Book sources, Book sources, Book sources, Book sources, Book sources, Book sources, Book sources, Book sources, Book sources, Book sources, Book sources, Book sources,\n",
      "\n",
      "Cluster 4 words: algebra, set, theory, functions, group, system,\n",
      "\n",
      "Cluster 4 titles: Euclidean space, Geometry, Line (geometry), Plane (geometry), Rotation (mathematics), Engineering, Mathematical model, Gabriel Cramer, Geodesy, Hüseyin Tevfik Pasha, Abstract algebra, Quantum mechanics, Special relativity, Statistics, Algorithm, Secondary school, Field (mathematics), Real number, Set (mathematics), Binary operation, Element (mathematics), Associative property, Commutative property, Identity element, Zero element, Inverse element, Additive inverse, Distributive property, , Abelian group, Sequence, Function (mathematics), Polynomial ring, Map (mathematics), Bijection, Isomorphism, Range (mathematics), Origin (mathematics), Axiom of choice, Rational number, Cardinality, Well-defined, Coordinate system, Inverse element, Invariant (mathematics), Polynomial, Algebraically closed field, Complex number, Complex conjugate, Definite quadratic form, Hermitian adjoint, Isomorphism, Isomorphism, Isomorphism, Fourier series, Dirichlet conditions, Quantum mechanics, Observable, Momentum, Energy, Angular momentum, Wave function, Potential energy, Hamiltonian (quantum mechanics), Homogeneous coordinates, Module (mathematics), Field (mathematics), Free module, Multilinear algebra, Mathematical analysis, Representation theory, Algebraic geometry, Computer vision, Linear regression, List of linear algebra topics, Numerical linear algebra, Digital object identifier, Digital object identifier, Finitely generated module, Well-order, Logical equivalence, Axiom of choice, Felix Gantmacher, Leon Mirsky, Springer Science+Business Media, Georgiy Shilov, Template:Linear algebra, Template talk:Linear algebra, Euclidean space, Multilinear algebra, Geometric algebra, Abstract algebra, Numerical linear algebra, Floating-point arithmetic, MATLAB, Basic Linear Algebra Subprograms, Comparison of linear algebra libraries, Comparison of numerical analysis software, List of linear algebra topics, Portal:Algebra, Template:Areas of mathematics, Arithmetic, Information theory, Lie theory, Order theory, Representation theory, Category theory, Control theory, Graph theory, Algebra, Multilinear algebra, Abstract algebra, Group theory, Calculus, Mathematical analysis, Dynamical systems theory, Mathematical optimization, Geometry, Discrete geometry, Algebraic geometry, Analytic geometry, Differential geometry, Finite geometry, Topology, Trigonometry, Probability theory, Mathematical statistics, Statistics, Game theory, Category:Fields of mathematics, Help:Authority control, Integrated Authority File, Bibliothèque nationale de France, National Diet Library,\n",
      "\n",
      "Cluster 5 words: vector, v, space, linear, production, vector,\n",
      "\n",
      "Cluster 5 titles: Linear map, Vector space, Functional analysis, Vector space, Euclidean vector, Scalar multiplication, Linear map, Linear map, Kernel (linear algebra), Linear subspace, Linear span, Basis (linear algebra), Linear subspace, Kernel (linear algebra), Linear combination, Linear span, Linear independence, Basis (linear algebra), Dimension (vector space), Dimension theorem for vector spaces, Linear combination, Standard basis, Kernel (linear algebra), Inner product space, Inner product space, Bilinear form, Cauchy–Schwarz inequality, Gram–Schmidt process, Linear map, Inner product space, Lp space, Linear map, Linear form, Dual space, Tensor product, Algebra over a field, Functional analysis, Lp space, Dimension theorem for vector spaces, Scalar (mathematics), Euclidean vector, Vector space, Scalar multiplication, Vector projection, Linear span, Linear map, Projection (linear algebra), Linear independence, Linear combination, Basis (linear algebra), Orthogonality, Kernel (linear algebra), Outer product, Inner product space, Dot product, Gram–Schmidt process, Vector algebra, Cross product, Triple product, Seven-dimensional cross product, Exterior algebra, Bivector, Multivector, Dual space, Direct sum of modules, Function space, Quotient space (linear algebra), Linear subspace, Tensor product, Category:Linear algebra, Functional analysis,\n",
      "\n",
      "Cluster 6 words: matrix, matrices, row, eigenvalues, column, determinant,\n",
      "\n",
      "Cluster 6 titles: Matrix (mathematics), Determinant, Gaussian elimination, Determinant, Gaussian elimination, Singular-value decomposition, Matrix (mathematics), Determinant,  ×  real matrices, Matrix (mathematics), Matrix (mathematics), Matrix similarity, Determinant, Invertible matrix, Gaussian elimination, Eigenvalues and eigenvectors, Eigenvalues and eigenvectors, Eigenvalues and eigenvectors, Identity matrix, Diagonalizable matrix, Diagonal matrix, Normal matrix, Determinant, Triangular matrix, Gaussian elimination, Eigenvalues and eigenvectors, Fundamental matrix (computer vision), Transformation matrix, Row and column spaces, Row and column spaces, Eigenvalues and eigenvectors, Transpose, Matrix (mathematics), Block matrix, Matrix decomposition, Invertible matrix, Minor (linear algebra), Matrix multiplication, Rank (linear algebra), Transformation matrix, Gaussian elimination, Sparse matrix,\n",
      "\n"
     ]
    }
   ],
   "source": [
    "from __future__ import print_function\n",
    "\n",
    "print(\"Top terms per cluster:\")\n",
    "print()\n",
    "order_centroids = km.cluster_centers_.argsort()[:, ::-1]\n",
    "for i in range(num_clusters):\n",
    "    print(\"Cluster %d words:\" % i, end='')\n",
    "    for ind in order_centroids[i, :6]:\n",
    "        print(' %s' % vocab_frame.loc[terms[ind].split(' ')].values.tolist()[0][0], end=',')\n",
    "    print()\n",
    "    print()\n",
    "    print(\"Cluster %d titles:\" % i, end='')\n",
    "    for title in frame.loc[i]['title'].values.tolist():\n",
    "        print(' %s,' % title, end='')\n",
    "    print()\n",
    "    print()"
   ]
  },
  {
   "cell_type": "code",
   "execution_count": 12,
   "metadata": {},
   "outputs": [
    {
     "name": "stdout",
     "output_type": "stream",
     "text": [
      "    rank                              title  cluster\n",
      "6      0                 Elementary algebra        6\n",
      "5      1                    Euclidean space        5\n",
      "0      2                        Mathematics        0\n",
      "6      3                    Linear equation        6\n",
      "1      4                         Linear map        1\n",
      "3      5               Matrix (mathematics)        3\n",
      "1      6                       Vector space        1\n",
      "0      7                           Geometry        0\n",
      "5      8                    Line (geometry)        5\n",
      "5      9                   Plane (geometry)        5\n",
      "5     10             Rotation (mathematics)        5\n",
      "5     11                Functional analysis        5\n",
      "0     12                        Engineering        0\n",
      "5     13                 Mathematical model        5\n",
      "6     14                   Nonlinear system        6\n",
      "3     15                        Determinant        3\n",
      "6     16         System of linear equations        6\n",
      "0     17          Gottfried Wilhelm Leibniz        0\n",
      "0     18                     Gabriel Cramer        0\n",
      "6     19                      Cramer's rule        6\n",
      "0     20               Carl Friedrich Gauss        0\n",
      "3     21               Gaussian elimination        3\n",
      "5     22                            Geodesy        5\n",
      "0     23                  Hermann Grassmann        0\n",
      "0     24             James Joseph Sylvester        0\n",
      "0     25                      Arthur Cayley        0\n",
      "0     26               Hüseyin Tevfik Pasha        0\n",
      "0     27                     Giuseppe Peano        0\n",
      "0     28                   Abstract algebra        0\n",
      "5     29                  Quantum mechanics        5\n",
      "..   ...                                ...      ...\n",
      "5    391                Functional analysis        5\n",
      "0    392                           Geometry        0\n",
      "0    393                  Discrete geometry        0\n",
      "5    394                 Algebraic geometry        5\n",
      "5    395                  Analytic geometry        5\n",
      "5    396              Differential geometry        5\n",
      "5    397                    Finite geometry        5\n",
      "5    398                           Topology        5\n",
      "5    399                       Trigonometry        5\n",
      "5    400                 Probability theory        5\n",
      "0    401               Mathematical physics        0\n",
      "5    402            Mathematical statistics        5\n",
      "5    403                         Statistics        5\n",
      "0    404                   Computer science        0\n",
      "0    405                        Game theory        0\n",
      "0    406           Recreational mathematics        0\n",
      "0    407                Mathematics and art        0\n",
      "0    408              Mathematics education        0\n",
      "0    409                 Mathematical logic        0\n",
      "0    410                   Pure mathematics        0\n",
      "0    411                Applied mathematics        0\n",
      "0    412               Discrete mathematics        0\n",
      "0    413          Computational mathematics        0\n",
      "5    414     Category:Fields of mathematics        5\n",
      "0    415                 Portal:Mathematics        0\n",
      "0    416  Wikipedia:WikiProject Mathematics        0\n",
      "5    417             Help:Authority control        5\n",
      "5    418          Integrated Authority File        5\n",
      "0    419   Bibliothèque nationale de France        0\n",
      "0    420              National Diet Library        0\n",
      "\n",
      "[421 rows x 3 columns]\n"
     ]
    }
   ],
   "source": [
    "print(frame)"
   ]
  },
  {
   "cell_type": "code",
   "execution_count": null,
   "metadata": {
    "collapsed": true
   },
   "outputs": [],
   "source": []
  },
  {
   "cell_type": "code",
   "execution_count": null,
   "metadata": {
    "collapsed": true
   },
   "outputs": [],
   "source": []
  }
 ],
 "metadata": {
  "kernelspec": {
   "display_name": "Python 3",
   "language": "python",
   "name": "python3"
  },
  "language_info": {
   "codemirror_mode": {
    "name": "ipython",
    "version": 3
   },
   "file_extension": ".py",
   "mimetype": "text/x-python",
   "name": "python",
   "nbconvert_exporter": "python",
   "pygments_lexer": "ipython3",
   "version": "3.6.1"
  }
 },
 "nbformat": 4,
 "nbformat_minor": 2
}
