{
 "cells": [
  {
   "cell_type": "code",
   "execution_count": 2,
   "metadata": {
    "collapsed": true
   },
   "outputs": [],
   "source": [
    "import numpy\n",
    "import pandas as pd\n",
    "import nltk\n",
    "import re\n",
    "import io"
   ]
  },
  {
   "cell_type": "code",
   "execution_count": null,
   "metadata": {
    "collapsed": true
   },
   "outputs": [],
   "source": [
    "#titles = io.open(\"titles.txt\", mode=\"r\", encoding=\"utf-8\", errors=\"ignore\").read().split('\\n')\n",
    "docs = io.open(\"docs.txt\", mode=\"r\", encoding=\"utf-8\", errors=\"ignore\").read()\n",
    "docs = re.sub(r\"\\[\\d+\\]\", \"\", docs)\n",
    "docs = re.sub(r'\\w*\\d\\w*', '', docs).split('\\n')\n",
    "\n",
    "titles = [docs[i] for i in range(len(docs)) if i % 2 == 0]\n",
    "docs = [docs[i] for i in range(len(docs)) if i % 2 == 1]\n",
    "\n",
    "print(str(len(titles)) + ' titles')\n",
    "print(str(len(docs)) + ' docs')\n",
    "print(titles[-20])\n",
    "print(docs[-20])\n",
    "\n",
    "ranks = []\n",
    "\n",
    "for i in range(0,len(titles)):\n",
    "    ranks.append(i)\n",
    "stopwords = nltk.corpus.stopwords.words('english')\n",
    "from nltk.stem.snowball import SnowballStemmer\n",
    "stemmer = SnowballStemmer(\"english\")"
   ]
  }
 ],
 "metadata": {
  "kernelspec": {
   "display_name": "Python 3",
   "language": "python",
   "name": "python3"
  },
  "language_info": {
   "codemirror_mode": {
    "name": "ipython",
    "version": 3
   },
   "file_extension": ".py",
   "mimetype": "text/x-python",
   "name": "python",
   "nbconvert_exporter": "python",
   "pygments_lexer": "ipython3",
   "version": "3.6.1"
  }
 },
 "nbformat": 4,
 "nbformat_minor": 2
}
